{
 "cells": [
  {
   "cell_type": "code",
   "execution_count": 2,
   "id": "2921f082-26af-4cbb-9555-8e955061c3ad",
   "metadata": {},
   "outputs": [],
   "source": [
    "import pandas as pd\n",
    "df = pd.read_csv(\"C:/Users/salma souissi/Downloads/data_all_cities_hourly.csv\")"
   ]
  },
  {
   "cell_type": "code",
   "execution_count": 3,
   "id": "08bb676c-a555-4b29-91cd-d3f1ffbe98d9",
   "metadata": {},
   "outputs": [
    {
     "name": "stdout",
     "output_type": "stream",
     "text": [
      "(1042268, 14)\n"
     ]
    }
   ],
   "source": [
    "print(df.shape)"
   ]
  },
  {
   "cell_type": "code",
   "execution_count": 4,
   "id": "bfaacc17-9cad-4e16-bbcf-6bb58d38d687",
   "metadata": {},
   "outputs": [
    {
     "name": "stdout",
     "output_type": "stream",
     "text": [
      "   temp  dwpt  rhum  prcp  snow   wdir  wspd  wpgt    pres  tsun  coco  \\\n",
      "0  16.3   2.3  39.0   NaN   NaN  260.0   7.6   NaN  1023.8   NaN   2.0   \n",
      "1  15.0   1.1  39.0   NaN   NaN  270.0  13.0   NaN  1023.0   NaN   2.0   \n",
      "2  15.0  -1.2  33.0   NaN   NaN  260.0  11.2   NaN  1023.0   NaN   2.0   \n",
      "3  14.1  -1.1  35.0   NaN   NaN  150.0   1.8   NaN  1023.3   NaN   2.0   \n",
      "4  13.0   1.0  44.0   NaN   NaN  180.0   9.4   NaN  1022.0   NaN   2.0   \n",
      "\n",
      "         date  hour   city  \n",
      "0  2020-02-24    18  Tunis  \n",
      "1  2020-02-24    19  Tunis  \n",
      "2  2020-02-24    20  Tunis  \n",
      "3  2020-02-24    21  Tunis  \n",
      "4  2020-02-24    22  Tunis  \n"
     ]
    }
   ],
   "source": [
    "print(df.head())"
   ]
  },
  {
   "cell_type": "code",
   "execution_count": 5,
   "id": "050119e7-79ab-4032-8978-af76e1634c74",
   "metadata": {},
   "outputs": [
    {
     "name": "stdout",
     "output_type": "stream",
     "text": [
      "Index(['temp', 'dwpt', 'rhum', 'prcp', 'snow', 'wdir', 'wspd', 'wpgt', 'pres',\n",
      "       'tsun', 'coco', 'date', 'hour', 'city'],\n",
      "      dtype='object')\n"
     ]
    }
   ],
   "source": [
    "print(df.columns)"
   ]
  },
  {
   "cell_type": "code",
   "execution_count": 6,
   "id": "f047bd48-7d9b-4d10-aa3d-2a363fae5407",
   "metadata": {},
   "outputs": [
    {
     "name": "stdout",
     "output_type": "stream",
     "text": [
      "['Tunis' 'Ariana' 'Ben Arous' 'Manouba' 'Nabeul' 'Zaghouan' 'Bizerte'\n",
      " 'Beja' 'Jendouba' 'Kef' 'Siliana' 'Kasserine' 'Sidi Bouzid' 'Kairouan'\n",
      " 'Kébili' 'Tozeur' 'Gabès' 'Medenine' 'Tataouine' 'Mahdia' 'Monastir'\n",
      " 'Sousse' 'Sfax' 'Gafsa']\n"
     ]
    }
   ],
   "source": [
    "print(df['city'].unique())"
   ]
  },
  {
   "cell_type": "code",
   "execution_count": 7,
   "id": "2de94e7b-1d7c-43f7-a071-c328dd52f4f9",
   "metadata": {},
   "outputs": [
    {
     "name": "stdout",
     "output_type": "stream",
     "text": [
      "    city        date  hour  temperature  precipitation  wind_speed  humidity\n",
      "0  Tunis  2020-02-24    18         16.3            NaN         7.6      39.0\n",
      "1  Tunis  2020-02-24    19         15.0            NaN        13.0      39.0\n",
      "2  Tunis  2020-02-24    20         15.0            NaN        11.2      33.0\n",
      "3  Tunis  2020-02-24    21         14.1            NaN         1.8      35.0\n",
      "4  Tunis  2020-02-24    22         13.0            NaN         9.4      44.0\n"
     ]
    }
   ],
   "source": [
    "# Renommer les colonnes\n",
    "df.rename(columns={  \n",
    "    'temp': 'temperature',  \n",
    "    'prcp': 'precipitation',  \n",
    "    'wspd': 'wind_speed', \n",
    "    'rhum':'humidity'\n",
    "}, inplace=True)\n",
    "#supprimer les colonnes non necessaires \n",
    "df=df.drop(columns=['dwpt','snow','wdir','wpgt','pres','tsun','coco'])\n",
    "# Nouveau ordre des colonnes\n",
    "new_order = ['city', 'date', 'hour', 'temperature', 'precipitation', 'wind_speed','humidity']\n",
    "\n",
    "# Réorganiser les colonnes\n",
    "df = df[new_order]\n",
    "\n",
    "# Vérifier le nouveau DataFrame\n",
    "print(df.head())"
   ]
  },
  {
   "cell_type": "code",
   "execution_count": 8,
   "id": "d15fb46f-e44f-48c9-9977-2ff55b03d928",
   "metadata": {},
   "outputs": [],
   "source": [
    "# Remplacer les valeurs NaN par 0\n",
    "df.fillna(0, inplace=True)"
   ]
  },
  {
   "cell_type": "code",
   "execution_count": 12,
   "id": "d9c42bbf-793f-43c0-a2db-a56af7773c8d",
   "metadata": {},
   "outputs": [
    {
     "name": "stdout",
     "output_type": "stream",
     "text": [
      "Collecting holidays\n",
      "  Obtaining dependency information for holidays from https://files.pythonhosted.org/packages/f8/8f/9cff125e50b56e29e7e05776dc74e56fc70b79830f0b85e947e5be831e96/holidays-0.67-py3-none-any.whl.metadata\n",
      "  Downloading holidays-0.67-py3-none-any.whl.metadata (27 kB)\n",
      "Requirement already satisfied: python-dateutil in c:\\users\\salma souissi\\appdata\\local\\programs\\python\\python312\\lib\\site-packages (from holidays) (2.9.0.post0)\n",
      "Requirement already satisfied: six>=1.5 in c:\\users\\salma souissi\\appdata\\local\\programs\\python\\python312\\lib\\site-packages (from python-dateutil->holidays) (1.16.0)\n",
      "Downloading holidays-0.67-py3-none-any.whl (820 kB)\n",
      "   ---------------------------------------- 0.0/820.7 kB ? eta -:--:--\n",
      "   - -------------------------------------- 30.7/820.7 kB 1.3 MB/s eta 0:00:01\n",
      "   -- ------------------------------------ 61.4/820.7 kB 656.4 kB/s eta 0:00:02\n",
      "   ---- --------------------------------- 102.4/820.7 kB 653.6 kB/s eta 0:00:02\n",
      "   ----- -------------------------------- 122.9/820.7 kB 722.1 kB/s eta 0:00:01\n",
      "   -------- ----------------------------- 184.3/820.7 kB 794.9 kB/s eta 0:00:01\n",
      "   --------- ---------------------------- 204.8/820.7 kB 731.4 kB/s eta 0:00:01\n",
      "   ---------- --------------------------- 235.5/820.7 kB 758.5 kB/s eta 0:00:01\n",
      "   ------------ ------------------------- 266.2/820.7 kB 780.5 kB/s eta 0:00:01\n",
      "   -------------- ----------------------- 307.2/820.7 kB 759.5 kB/s eta 0:00:01\n",
      "   ---------------- --------------------- 348.2/820.7 kB 771.5 kB/s eta 0:00:01\n",
      "   ------------------ ------------------- 399.4/820.7 kB 802.3 kB/s eta 0:00:01\n",
      "   -------------------- ----------------- 450.6/820.7 kB 853.3 kB/s eta 0:00:01\n",
      "   ---------------------- --------------- 481.3/820.7 kB 836.7 kB/s eta 0:00:01\n",
      "   ----------------------- -------------- 512.0/820.7 kB 844.7 kB/s eta 0:00:01\n",
      "   -------------------------- ----------- 563.2/820.7 kB 862.7 kB/s eta 0:00:01\n",
      "   -------------------------- ----------- 563.2/820.7 kB 862.7 kB/s eta 0:00:01\n",
      "   ---------------------------- --------- 614.4/820.7 kB 840.3 kB/s eta 0:00:01\n",
      "   ----------------------------- -------- 645.1/820.7 kB 828.8 kB/s eta 0:00:01\n",
      "   ------------------------------ ------- 665.6/820.7 kB 839.1 kB/s eta 0:00:01\n",
      "   ------------------------------ ------- 665.6/820.7 kB 839.1 kB/s eta 0:00:01\n",
      "   ------------------------------ ------- 665.6/820.7 kB 839.1 kB/s eta 0:00:01\n",
      "   ---------------------------------- --- 747.5/820.7 kB 799.7 kB/s eta 0:00:01\n",
      "   ------------------------------------ - 778.2/820.7 kB 805.9 kB/s eta 0:00:01\n",
      "   -------------------------------------  819.2/820.7 kB 809.0 kB/s eta 0:00:01\n",
      "   -------------------------------------  819.2/820.7 kB 809.0 kB/s eta 0:00:01\n",
      "   -------------------------------------  819.2/820.7 kB 809.0 kB/s eta 0:00:01\n",
      "   -------------------------------------  819.2/820.7 kB 809.0 kB/s eta 0:00:01\n",
      "   -------------------------------------  819.2/820.7 kB 809.0 kB/s eta 0:00:01\n",
      "   -------------------------------------  819.2/820.7 kB 809.0 kB/s eta 0:00:01\n",
      "   -------------------------------------  819.2/820.7 kB 809.0 kB/s eta 0:00:01\n",
      "   -------------------------------------  819.2/820.7 kB 809.0 kB/s eta 0:00:01\n",
      "   -------------------------------------  819.2/820.7 kB 809.0 kB/s eta 0:00:01\n",
      "   -------------------------------------  819.2/820.7 kB 809.0 kB/s eta 0:00:01\n",
      "   -------------------------------------  819.2/820.7 kB 809.0 kB/s eta 0:00:01\n",
      "   -------------------------------------  819.2/820.7 kB 809.0 kB/s eta 0:00:01\n",
      "   -------------------------------------- 820.7/820.7 kB 529.4 kB/s eta 0:00:00\n",
      "Installing collected packages: holidays\n",
      "Successfully installed holidays-0.67\n",
      "Note: you may need to restart the kernel to use updated packages.\n"
     ]
    },
    {
     "name": "stderr",
     "output_type": "stream",
     "text": [
      "\n",
      "[notice] A new release of pip is available: 23.2.1 -> 25.0.1\n",
      "[notice] To update, run: C:\\Users\\salma souissi\\AppData\\Local\\Programs\\Python\\Python312\\python.exe -m pip install --upgrade pip\n"
     ]
    }
   ],
   "source": [
    "pip install holidays "
   ]
  },
  {
   "cell_type": "code",
   "execution_count": 9,
   "id": "fe591628-0e05-4895-82ae-eaecfcc8766b",
   "metadata": {},
   "outputs": [],
   "source": [
    "import holidays\n",
    "# Définir le pays (ex: 'TN' pour la Tunisie)\n",
    "jours_feries = holidays.country_holidays('TN')\n"
   ]
  },
  {
   "cell_type": "code",
   "execution_count": 10,
   "id": "152b0548-8ae7-48c5-9d18-4473e59e0846",
   "metadata": {},
   "outputs": [],
   "source": [
    "# Convertir la colonne Date en datetime\n",
    "df[\"date\"] = pd.to_datetime(df[\"date\"])\n"
   ]
  },
  {
   "cell_type": "code",
   "execution_count": 11,
   "id": "f69ec10f-92be-4fd5-82dc-f449b9162879",
   "metadata": {},
   "outputs": [],
   "source": [
    "# Ajout de la colonne température moyenne sur 7 jours Pour capturer l’inertie des comportements.\n",
    "df['température_moyenne_7j'] = df['temperature'].rolling(window=7, min_periods=1).mean()\n",
    "\n",
    "#ajouter une colonne indiquant le mois :\n",
    "df[\"mois\"] = df[\"date\"].dt.month\n",
    "#____________________\n",
    "jours_semaine = [\"Lundi\", \"Mardi\", \"Mercredi\", \"Jeudi\", \"Vendredi\",\"Samedi\", \"Dimanche\"]\n",
    "#Générer les jours en respectant l'ordre\n",
    "df[\"Jour\"] = [jours_semaine[i % 7] for i in range(len(df))]\n",
    "#Ajouter la colonne Weekend (1 si Samedi ou Dimanche, sinon 0)\n",
    "df[\"Weekend\"] = df[\"Jour\"].isin([\"Samedi\", \"Dimanche\"]).astype(int)\n",
    "# Ajouter une colonne indiquant si la date est un jour férié\n",
    "df['jour_ferie'] = df['date'].apply(lambda x: x in jours_feries).astype(int)\n",
    "# Ajouter une colonne \"saison\"\n",
    "df[\"saison\"] = df[\"date\"].apply(lambda x: \"été\" if x.month in [6, 7, 8] else \"hiver\" if x.month in [12, 1, 2] else \"printemps/automne\")\n",
    "#vacances scolaires :\n",
    "vacances_scolaires = [('2020-12-15', '2021-01-01'), ('2021-03-14', '2021-03-27'),('2021-06-30','2021-09-14'),('2021-12-15', '2022-01-01'), ('2022-03-14', '2022-03-27'),('2022-06-30','2022-09-14'),('2022-11-15', '2023-01-1'), ('2023-03-14', '2023-03-27'),('2023-06-30','2023-09-14'),('2023-11-15', '2024-01-1'), ('2024-03-14', '2024-03-27'),('2024-06-30','2024-09-14')]\n",
    "df['vacances_scolaires'] = df['date'].apply(\n",
    "    lambda x: 1 if any(pd.to_datetime(start) <= x <= pd.to_datetime(end) for start, end in vacances_scolaires) else 0)\n",
    "#ramadan :\n",
    "ramadan_dates = {\n",
    "    '2020': ('2020-04-23', '2020-05-23'),\n",
    "    '2021': ('2021-04-13', '2021-05-12'),\n",
    "    '2022': ('2022-04-02', '2022-05-01'),\n",
    "    '2023': ('2023-03-23', '2023-04-22'),\n",
    "    '2024': ('2024-03-11', '2024-04-09')\n",
    "}\n",
    "df['ramadan'] = df['date'].apply(\n",
    "    lambda x: 1 if any(pd.to_datetime(start) <= x <= pd.to_datetime(end) for start, end in ramadan_dates.values()) else 0)\n",
    "#new year:\n",
    "new_year_dates = [('2020-12-31', '2020-12-31'), ('2021-12-31', '2021-12-31'), ('2022-12-31', '2022-12-31'),('2023-12-31', '2023-12-31'),('2024-12-31','2024-12-31'), ('2025-12-31','2025-12-31') ]\n",
    "df['new_year'] = df['date'].apply(\n",
    "    lambda x: 1 if any(pd.to_datetime(start) == x for start, end in new_year_dates) else 0)\n",
    "#type region :\n",
    "regions = {\n",
    "    'Tunis': 'Hors côtier',\n",
    "    'Sousse': 'Côtière',\n",
    "    'Monastir': 'Côtière',\n",
    "    'Sfax': 'Hors côtier',\n",
    "    'Kairouan': 'Intérieure',\n",
    "    'Gafsa': 'Intérieure',\n",
    "    'Mahdia': 'Côtière',\n",
    "    'Nabeul': 'Côtière',\n",
    "    'Tozeur': 'Intérieure',\n",
    "    'Jendouba': 'Intérieure',\n",
    "    'Bizerte': 'Côtière',\n",
    "    'Kasserine': 'Intérieure',\n",
    "    'Tataouine': 'Intérieure',\n",
    "    'Ariana':'Hors côtier',\n",
    "    'Ben Arous':'Hors côtier',\n",
    "    'Manouba':'Hors côtier',\n",
    "    'Zaghouan':'Hors côtier',\n",
    "    'Kébili':'Intérieure',\n",
    "    'Gabès':'Intérieure',\n",
    "    'Medenine':'Intérieure',\n",
    "    'Sidi Bouzid':'Intérieure',\n",
    "    'Beja':'Intérieure',\n",
    "    'Kef':'Intérieure',\n",
    "    'Siliana':'Intérieure'\n",
    "\n",
    "}\n",
    "\n",
    "df['Region'] = df['city'].apply(lambda x: regions.get(x, 'Unknown'))\n",
    "# Définition des mois qui représentent la haute et basse saison touristique\n",
    "high_season_months = [5,6,7,8]\n",
    "medium_season_months = [4,9,10,11]\n",
    "low_season_months = [1,2,3,12]\n",
    "\n",
    "# Ajout d'une nouvelle colonne qui définit la saison touristique en fonction du mois\n",
    "def get_season(month):\n",
    "    if month in high_season_months:\n",
    "        return 'Haute '\n",
    "    elif month in medium_season_months:\n",
    "        return 'Moyenne'\n",
    "    else:\n",
    "        return 'Basse '\n",
    "df['saison_toristique'] = df['mois'].apply(lambda x: get_season(x))\n",
    "\n",
    "\n"
   ]
  },
  {
   "cell_type": "code",
   "execution_count": 12,
   "id": "7a235576-071b-4201-95d8-bf11fc5583f9",
   "metadata": {},
   "outputs": [],
   "source": [
    "# Sauvegarder le DataFrame en fichier CSV\n",
    "df.to_csv('features.csv', index=False)"
   ]
  },
  {
   "cell_type": "code",
   "execution_count": 13,
   "id": "5f0e0db2-3499-463a-98fd-170edb8b0168",
   "metadata": {},
   "outputs": [],
   "source": [
    "# Création de la colonne 'periode_journee'\n",
    "def categoriser_periode(hour):\n",
    "    if 5 <= hour < 8:\n",
    "        return 'Petit matin (5h-8h)'\n",
    "    elif 8 <= hour < 12:\n",
    "        return 'Matin (8h-12h)'\n",
    "    elif 12 <= hour < 17:\n",
    "        return 'Midi-Après-midi (12h-17h)'\n",
    "    elif 17 <= hour < 21:\n",
    "        return 'Soirée (17h-21h)'\n",
    "    else:\n",
    "        return 'Nuit (21h-5h)'\n",
    "\n",
    "# Application\n",
    "df['periode_journee'] = df['hour'].apply(categoriser_periode)"
   ]
  },
  {
   "cell_type": "code",
   "execution_count": 14,
   "id": "b1580423-57f5-427e-83b2-5c320b10865b",
   "metadata": {},
   "outputs": [
    {
     "name": "stdout",
     "output_type": "stream",
     "text": [
      "    city       date  hour  temperature  precipitation  wind_speed  humidity  \\\n",
      "0  Tunis 2020-02-24    18         16.3            0.0         7.6      39.0   \n",
      "1  Tunis 2020-02-24    19         15.0            0.0        13.0      39.0   \n",
      "2  Tunis 2020-02-24    20         15.0            0.0        11.2      33.0   \n",
      "3  Tunis 2020-02-24    21         14.1            0.0         1.8      35.0   \n",
      "4  Tunis 2020-02-24    22         13.0            0.0         9.4      44.0   \n",
      "5  Tunis 2020-02-24    23         12.0            0.0         5.4      54.0   \n",
      "6  Tunis 2020-02-25     0          9.7            0.0         3.6      59.0   \n",
      "7  Tunis 2020-02-25     1          7.0            0.0         5.4      71.0   \n",
      "8  Tunis 2020-02-25     2          9.0            0.0         5.4      66.0   \n",
      "9  Tunis 2020-02-25     3          9.4            0.0         9.4      62.0   \n",
      "\n",
      "   température_moyenne_7j  mois      Jour  Weekend  jour_ferie saison  \\\n",
      "0               16.300000     2     Lundi        0           0  hiver   \n",
      "1               15.650000     2     Mardi        0           0  hiver   \n",
      "2               15.433333     2  Mercredi        0           0  hiver   \n",
      "3               15.100000     2     Jeudi        0           0  hiver   \n",
      "4               14.680000     2  Vendredi        0           0  hiver   \n",
      "5               14.233333     2    Samedi        1           0  hiver   \n",
      "6               13.585714     2  Dimanche        1           0  hiver   \n",
      "7               12.257143     2     Lundi        0           0  hiver   \n",
      "8               11.400000     2     Mardi        0           0  hiver   \n",
      "9               10.600000     2  Mercredi        0           0  hiver   \n",
      "\n",
      "   vacances_scolaires  ramadan  new_year       Region saison_toristique  \\\n",
      "0                   0        0         0  Hors côtier            Basse    \n",
      "1                   0        0         0  Hors côtier            Basse    \n",
      "2                   0        0         0  Hors côtier            Basse    \n",
      "3                   0        0         0  Hors côtier            Basse    \n",
      "4                   0        0         0  Hors côtier            Basse    \n",
      "5                   0        0         0  Hors côtier            Basse    \n",
      "6                   0        0         0  Hors côtier            Basse    \n",
      "7                   0        0         0  Hors côtier            Basse    \n",
      "8                   0        0         0  Hors côtier            Basse    \n",
      "9                   0        0         0  Hors côtier            Basse    \n",
      "\n",
      "    periode_journee  \n",
      "0  Soirée (17h-21h)  \n",
      "1  Soirée (17h-21h)  \n",
      "2  Soirée (17h-21h)  \n",
      "3     Nuit (21h-5h)  \n",
      "4     Nuit (21h-5h)  \n",
      "5     Nuit (21h-5h)  \n",
      "6     Nuit (21h-5h)  \n",
      "7     Nuit (21h-5h)  \n",
      "8     Nuit (21h-5h)  \n",
      "9     Nuit (21h-5h)  \n"
     ]
    }
   ],
   "source": [
    "print(df.head(10))"
   ]
  },
  {
   "cell_type": "code",
   "execution_count": 28,
   "id": "4a51b9b7-3d62-49f5-b13f-7fb03c3db458",
   "metadata": {},
   "outputs": [],
   "source": [
    "# Coefficients mensuels pour les ventes de glaces en Tunisie\n",
    "monthly_glace_coefficients = {\n",
    "    1: 0.0,  # Janvier - Pas de consommation\n",
    "    2: 0.0,  # Février - Pas de consommation\n",
    "    3: 0.0,  # Mars - Pas de consommation\n",
    "    4: 0.0,  # Avril - Pas de consommation\n",
    "    5: 0.3,  # Mai - Début de la consommation (30%)\n",
    "    6: 1.0,  # Juin - Consommation normale (100%)\n",
    "    7: 1.0,  # Juillet - Consommation normale (100%)\n",
    "    8: 1.0,  # Août - Consommation normale (100%)\n",
    "    9: 1.0,  # Septembre - Consommation normale (100%)\n",
    "    10: 0.3, # Octobre - Fin de saison (30%)\n",
    "    11: 0.0, # Novembre - Plus de consommation\n",
    "    12: 0.0  # Décembre - Plus de consommation\n",
    "}\n",
    "# Coefficients régionaux des ventes de glaces (uniquement en été)\n",
    "region_glace_coefficients = {\n",
    "    'Côtière': 1.5,     # +50% dans les zones côtières\n",
    "    'Hors côtier': 1.2, # +20% dans les zones hors côtières\n",
    "    'Intérieure': 1.0   # Pas d'effet\n",
    "}\n",
    "# Coefficients des jours spéciaux\n",
    "special_day_coefficients = {\n",
    "    'Weekend': 1.4,   # +40% le samedi/dimanche\n",
    "    'jour_ferie': 1.6, # +60% les jours fériés\n",
    "    'vacances_scolaires': 1.5   # +50% pendant les vacances scolaires\n",
    "}\n",
    "#l'impact de la température sur les ventes de glaces :\n",
    "def temperature_glace_impact(temp):\n",
    "    if temp < 20:\n",
    "        return 0  # Aucun impact en dessous de 20°C\n",
    "    elif 20 <= temp < 30:\n",
    "        return 0.02 * (temp - 20)  # +2% par degré entre 20°C et 30°C\n",
    "    elif 30 <= temp <35 :\n",
    "        return 0.05 * (temp - 30) #+5% par degré entre 30°C et 35°C\n",
    "    elif 35 <= temp < 40:\n",
    "        return 0.5\n",
    "    else:\n",
    "        return -0.3  # Canicule : -30% ,une chaleur extrême (>40°C) peut réduire les sorties.\n",
    "def heure_glace_impact(hour):\n",
    "    if 5 <= hour < 8:\n",
    "        return 0.2  # Faible consommation tôt le matin\n",
    "    elif 8 <= hour < 12:\n",
    "        return 0.8  # Consommation modérée\n",
    "    elif 12 <= hour < 17:\n",
    "        return 1.0  # Consommation normale\n",
    "    elif 17 <= hour < 21:\n",
    "        return 1.5  # Pic de consommation après 17h\n",
    "    else:\n",
    "        return 0.6  # Retour à une consommation réduite la nuit\n",
    "\n",
    "\n",
    "\n",
    "def generer_ventes_glaces(df, base_ventes,bruit=True, bruit_intensite=0.1):\n",
    "    # Calcul de l'impact des jours spéciaux\n",
    "    def jour_impact(row):\n",
    "        coeff = 1.0\n",
    "        if row['jour_ferie']:\n",
    "            coeff *= special_day_coefficients['jour_ferie']\n",
    "        if row['Weekend']:\n",
    "            coeff *= special_day_coefficients['Weekend']\n",
    "        if row['vacances_scolaires']:\n",
    "            coeff *= special_day_coefficients['vacances_scolaires']\n",
    "        coeff = min(2.0, coeff)  # Plafond à +100%\n",
    "        return coeff \n",
    "\n",
    "    # Calcul des ventes\n",
    "    def calcul_ventes(row):\n",
    "        saison = monthly_glace_coefficients[row['mois']]\n",
    "        region = region_glace_coefficients[row['Region']]\n",
    "        jour = jour_impact(row)\n",
    "        temp = 1 + temperature_glace_impact(row['temperature'])\n",
    "        heure = heure_glace_impact(row['hour'])  \n",
    "        ventes = base_ventes * saison * region * jour * temp * heure\n",
    "        return int(np.round(ventes))\n",
    "        # Ajout de bruit réaliste\n",
    "        if bruit:\n",
    "            bruit_gaussien = np.random.normal(0, bruit_intensite * ventes)  # Bruit normal\n",
    "            bruit_poisson = np.random.poisson(ventes * 0.05)  # Bruit Poissonien (lambda = 5% des ventes)\n",
    "            ventes = max(0, int(np.round(ventes + bruit_gaussien + bruit_poisson))) #Pas de ventes négatives !\n",
    "        return ventes\n",
    "\n",
    "    # Application sur le DataFrame\n",
    "    df['ventes_glaces'] = df.apply(calcul_ventes, axis=1)\n",
    "\n",
    "    return df\n",
    "\n",
    "# Appel de la fonction\n",
    "df= generer_ventes_glaces(df, base_ventes=100)\n",
    "\n",
    "\n",
    "\n",
    "\n",
    "\n"
   ]
  },
  {
   "cell_type": "code",
   "execution_count": 30,
   "id": "d36340ff-de0b-47bd-af09-42e75f6713d1",
   "metadata": {},
   "outputs": [
    {
     "name": "stdout",
     "output_type": "stream",
     "text": [
      "[  0  35  43  14  12  48  49  51  65  81  66  63  95 114 110  88  22  30\n",
      "   7  44  33  32  42  56  58  54  10  31  41  40  59  79  45  39  38  52\n",
      "  77  11  29  50  62   8  36  85  80  55  53  37  76  57  83  34  60  23\n",
      "  24  25  78  15  72 100  93 112  86  64  61  90 108  46 101 143 148 106\n",
      " 134 132 181 262 184 180 102 104 188 185 130 191 186 252 151 137 277 274\n",
      " 187  75 105 103  73  26 159  96 115 144 193 176 126 205 202 109  74  98\n",
      " 194 268 142 113 139 198 189 206 201 272 267  27 155 141 192 282 136 135\n",
      " 257 128 258 168 199 107  99 161 190 209 283 140 120 111 150 153 195 287\n",
      " 124 138 266 211 273 154 197 196 200 292 203 121 295 129 178 212  97 145\n",
      " 157 204 123  28 378  84 118 117  82 214 298 156 297 208 127 286 173 160\n",
      " 122 285 170 158 133 125 210 131 207 290 116 177 228 230 264 302 337 323\n",
      " 221 183 288 360 346 317 432 396 300 334 328 164 425 418 174 182 149 260\n",
      " 167 163 166  94 216 301 119 291 236 331 310 340 261 284 280 279 169 278\n",
      " 179 276 175 270  47  92  87  67 269 172 408 223 171 319 311 419 410 218\n",
      " 405 316 308 294 314 152 256 313 403 227 254 146 315 540 222 219 400 244\n",
      " 406 215 245 226 229 409 147 242 240 426 162 306 289 224 165 333 322 307\n",
      " 324 414 312 296 430 380 321 434 213 412 303 420 305 389 220 431 247 318\n",
      " 253 304 415 265 271 383 251 293 365 413 217 367 428 429 382 394 422 263\n",
      " 336 417 423 231 281 275 299 339 234 239 250 248 421 235 441 320 327 325\n",
      " 225 395 374 259 402 399 392  68 233 232 309 238 335 369 427 397 237 373\n",
      " 255 241 385 371 424 387 246  89 446 411  91  16 391 448 401 364 398 445\n",
      " 404 407 436   9  13  70  69  71  18 330 347 243 343 359 353 348 345 370\n",
      " 372 361 249 357 513 366 531 522 472 450 354 537 350 338 344 351 355 386\n",
      " 504 495 388 524 341 518 521 533 384 486 520 509 517 358 352 326 506 470\n",
      " 526 528 459 675 536 534 363 454 493 468 393 490 356 523 514 508 381 362\n",
      " 349 479 525 516 530 332 461 342 464 457 539 527  19 511 502 515 452 475\n",
      " 560 512 519 477 390 379 377 500 368 501 529 535 482 329 416 376 505 375\n",
      " 492 542 551 466 499 498 503 538 532 510 497 487 491 494 484 547   6  20\n",
      "  21  17 554 549 558 507 481 488 545 496 489 485 437 443]\n"
     ]
    }
   ],
   "source": [
    "print(df['ventes_glaces'].unique())"
   ]
  },
  {
   "cell_type": "code",
   "execution_count": 31,
   "id": "a7ff726a-5aad-4de5-aa81-cd2c12e9d912",
   "metadata": {},
   "outputs": [],
   "source": [
    "# Sauvegarder le DataFrame en fichier CSV\n",
    "df.to_csv('features.csv', index=False)"
   ]
  },
  {
   "cell_type": "code",
   "execution_count": 43,
   "id": "8221ddaf-3f55-48b7-a106-330e036d9ccd",
   "metadata": {},
   "outputs": [],
   "source": [
    "import pandas as pd\n",
    "import numpy as np\n",
    "\n",
    "# Coefficients mensuels pour les boissons fraîches\n",
    "monthly_boisson_coefficients = {\n",
    "    1: 0.3,  # Janvier - Consommation basse\n",
    "    2: 0.4,  # Février\n",
    "    3: 0.5,  # Mars\n",
    "    4: 0.6,  # Avril\n",
    "    5: 1.2,  # Mai - Début de saison\n",
    "    6: 1.5,  # Juin\n",
    "    7: 2.0,  # Juillet - Pic estival\n",
    "    8: 2.3,  # Août\n",
    "    9: 1.5,  # Septembre\n",
    "    10: 1.0, # Octobre\n",
    "    11: 0.6, # Novembre\n",
    "    12: 0.3  # Décembre\n",
    "}\n",
    "\n",
    "# Coefficients régionaux\n",
    "region_boisson_coefficients = {\n",
    "    'Côtière': 1.7,     # +70% pour les zonnes toristiques \n",
    "    'hors côtièr': 1.5,  # +50% plus de population\n",
    "    'Urbaine': 1.0,     # pas d'impact\n",
    "}\n",
    "\n",
    "# Impact des jours spéciaux\n",
    "special_day_coefficients = {\n",
    "    'Weekend': 1.3,    # +30%\n",
    "    'jour_ferie': 1.3, # +40%\n",
    "    'vacances_scolaires': 1.0,  #neutre\n",
    "    'ramadan': 2.5     # pic\n",
    "}\n",
    "\n",
    "def temperature_boisson_impact(temp, humidity):\n",
    "    \"\"\"Impact combiné température/humidité (indice de chaleur)\"\"\"\n",
    "    if temp < 10:\n",
    "        return -0.5  # -50% en dessous de 10°C\n",
    "    elif 10 <= temp < 20:\n",
    "        return 0.01 * (temp - 10)  # +1% par °C\n",
    "    elif 20 <= temp < 30:\n",
    "        return 0.03 * (temp - 20) + 0.1  # +3% par °C + base 10%\n",
    "    else:\n",
    "        # Formule simplifiée d'indice de chaleur\n",
    "        hi_effect = 0.03 * temp + 0.001 * humidity * (temp - 14.5)\n",
    "        return min(hi_effect, 1.0)  # Plafonné à +100%\n",
    "\n",
    "def heure_boisson_impact(hour, saison):\n",
    "    \"\"\"Variation horaire saisonnière\"\"\"\n",
    "    if saison == 'été' :\n",
    "        if 12 <= hour < 15:\n",
    "            return 2.0  # Déjeuner\n",
    "        elif 15 <= hour < 19:\n",
    "            return 0.8  # Après-midi/soirée\n",
    "        elif 20<= hour<22 :\n",
    "            return 1.5\n",
    "        elif 0 < hour <12 :\n",
    "            return 0.1\n",
    "        else:\n",
    "            return 0.5\n",
    "    else:\n",
    "        if 12 <= hour < 14:\n",
    "            return 1.5  # Heure du déjeuner\n",
    "        else:\n",
    "            return 1.0\n",
    "\n",
    "def generer_ventes_boissons(df, base_ventes=100):\n",
    "    def calcul_ventes(row):\n",
    "        \n",
    "            # Coefficients de base\n",
    "            mois_coeff = monthly_boisson_coefficients.get(row['mois'], 1.0)\n",
    "            \n",
    "            # Impact régional UNIQUEMENT si saison touristique\n",
    "            region_coeff = 1.0\n",
    "            if row['saison_toristique'] == 'Oui':\n",
    "                region_coeff = region_touristique_coefficients.get(row['Region'], 1.0)\n",
    "            \n",
    "            # Impact météo\n",
    "            temp_coeff = 1 + temperature_boisson_impact(row['temperature'], row['humidity'])\n",
    "            \n",
    "            # Impact temporel\n",
    "            heure_coeff = heure_boisson_impact(row['hour'], row['saison'])\n",
    "            \n",
    "            # Jours spéciaux\n",
    "            special_coeff = 1.0\n",
    "            if row['jour_ferie']:\n",
    "                special_coeff *= special_day_coefficients['jour_ferie']\n",
    "            if row['Weekend']:\n",
    "                special_coeff *= special_day_coefficients['Weekend']\n",
    "            if row['vacances_scolaires']:\n",
    "                special_coeff *= special_day_coefficients['vacances_scolaires']\n",
    "            if row['ramadan'] and (18 <= row['hour'] <= 23):\n",
    "                special_coeff *= special_day_coefficients['ramadan']\n",
    "            \n",
    "            # Calcul final:\n",
    "            ventes = base_ventes * mois_coeff * region_coeff * temp_coeff * heure_coeff * special_coeff\n",
    "            return int(np.round(ventes))\n",
    "            # Ajout de bruit réaliste\n",
    "            if bruit:\n",
    "                bruit_gaussien = np.random.normal(0, bruit_intensite * ventes)  # Bruit normal\n",
    "                bruit_poisson = np.random.poisson(ventes * 0.05)  # Bruit Poissonien (lambda = 5% des ventes)\n",
    "                ventes = max(0, int(np.round(ventes + bruit_gaussien + bruit_poisson))) #Pas de ventes négatives !\n",
    "            return ventes\n",
    "    df['ventes_boissons'] = df.apply(calcul_ventes, axis=1)\n",
    "    return df\n",
    "df = generer_ventes_boissons(df, base_ventes=150)   \n"
   ]
  },
  {
   "cell_type": "code",
   "execution_count": 44,
   "id": "441cbf58-5deb-4a17-baea-1ffe205c9a38",
   "metadata": {},
   "outputs": [
    {
     "name": "stdout",
     "output_type": "stream",
     "text": [
      "Index(['city', 'date', 'hour', 'temperature', 'precipitation', 'wind_speed',\n",
      "       'humidity', 'température_moyenne_7j', 'mois', 'Jour', 'Weekend',\n",
      "       'jour_ferie', 'saison', 'vacances_scolaires', 'ramadan', 'new_year',\n",
      "       'Region', 'saison_toristique', 'periode_journee', 'ventes_glaces',\n",
      "       'ventes_boissons'],\n",
      "      dtype='object')\n"
     ]
    }
   ],
   "source": [
    "print(df.columns)"
   ]
  },
  {
   "cell_type": "code",
   "execution_count": 45,
   "id": "548840f5-d9aa-48c2-b1f9-7bfe8e2b3916",
   "metadata": {},
   "outputs": [
    {
     "name": "stdout",
     "output_type": "stream",
     "text": [
      "         temperature  hour       Region  ventes_boissons\n",
      "0               16.3    18  Hors côtier               64\n",
      "1               15.0    19  Hors côtier               63\n",
      "2               15.0    20  Hors côtier               63\n",
      "3               14.1    21  Hors côtier               62\n",
      "4               13.0    22  Hors côtier               62\n",
      "...              ...   ...          ...              ...\n",
      "1042263         17.0    13   Intérieure              125\n",
      "1042264         17.2    14   Intérieure               84\n",
      "1042265         16.9    15   Intérieure               64\n",
      "1042266         16.7    16   Intérieure               64\n",
      "1042267         15.7    17   Intérieure               63\n",
      "\n",
      "[1042268 rows x 4 columns]\n"
     ]
    }
   ],
   "source": [
    "print(df[['temperature', 'hour', 'Region', 'ventes_boissons']])"
   ]
  },
  {
   "cell_type": "code",
   "execution_count": 46,
   "id": "3728cc72-e1f3-419f-b3db-a1e8a893389c",
   "metadata": {},
   "outputs": [
    {
     "name": "stdout",
     "output_type": "stream",
     "text": [
      "[  64   63   62 ... 1167 1190  980]\n"
     ]
    }
   ],
   "source": [
    "print(df['ventes_boissons'].unique())"
   ]
  },
  {
   "cell_type": "code",
   "execution_count": 47,
   "id": "4f725b06-5ad8-445e-b087-7739b12be4c1",
   "metadata": {},
   "outputs": [],
   "source": [
    "# Sauvegarder le DataFrame en fichier CSV\n",
    "df.to_csv('features.csv', index=False)"
   ]
  },
  {
   "cell_type": "code",
   "execution_count": 56,
   "id": "71e1eaf8-7634-4eb4-91f9-a99c89dcf9cf",
   "metadata": {},
   "outputs": [],
   "source": [
    "def impact_vent(wind_speed):\n",
    "    \"\"\"Réduction des ventes quand le vent est fort (>30 km/h) , moins de sortir\"\"\"\n",
    "    if wind_speed <= 20:\n",
    "        return 1.0  # Pas d'impact\n",
    "    elif 20 < wind_speed <= 40:\n",
    "        return 1 - 0.01 * (wind_speed - 20)  # -1% par km/h au-dessus de 20\n",
    "    else:\n",
    "        return 0.8  # Plafonné à -20%\n",
    "def impact_precipitation(precip):\n",
    "    if precip <= 20:\n",
    "        return max(0.3, 1 - 0.02 * precip)  # Réduction linéaire jusqu'à 20 mm\n",
    "    else:\n",
    "        return 0.6  # Plafond à 60% de réduction pour les fortes pluies\n",
    "def ajuster_ventes(df,colonne_ventes=\"ventes\"):\n",
    "    def calcul_ventes(row):\n",
    "        # Nouveaux coefficients météo\n",
    "        vent_coeff = impact_vent(row['wind_speed'])\n",
    "        pluie_coeff = impact_precipitation(row['precipitation'])\n",
    "        \n",
    "        # Combinaison avec effets multiplicatifs\n",
    "        ventes =  row[colonne_ventes]* vent_coeff * pluie_coeff\n",
    "        \n",
    "        # Bruit aléatoire\n",
    "        ventes *= np.random.uniform(0.95, 1.05)\n",
    "        \n",
    "        return int(np.round(ventes))\n",
    "    \n",
    "    df[colonne_ventes] = df.apply(calcul_ventes, axis=1)\n",
    "    return df\n"
   ]
  },
  {
   "cell_type": "code",
   "execution_count": 57,
   "id": "224278f5-9e83-497d-89ea-cac5c55ab164",
   "metadata": {},
   "outputs": [],
   "source": [
    "df = ajuster_ventes(df,colonne_ventes=\"ventes_glaces\") "
   ]
  },
  {
   "cell_type": "code",
   "execution_count": 58,
   "id": "431f310f-f6bb-4db0-ae60-7cdecb32b455",
   "metadata": {},
   "outputs": [],
   "source": [
    "df = ajuster_ventes(df,colonne_ventes=\"ventes_boissons\") "
   ]
  },
  {
   "cell_type": "code",
   "execution_count": 59,
   "id": "b526a290-0ea6-4e65-9e1d-5f39d383d768",
   "metadata": {},
   "outputs": [],
   "source": [
    "# Sauvegarder le DataFrame en fichier CSV\n",
    "df.to_csv('features.csv', index=False)"
   ]
  },
  {
   "cell_type": "code",
   "execution_count": null,
   "id": "fc8467ae-0bb0-4d57-bd95-848782506668",
   "metadata": {},
   "outputs": [],
   "source": []
  }
 ],
 "metadata": {
  "kernelspec": {
   "display_name": "Python 3 (ipykernel)",
   "language": "python",
   "name": "python3"
  },
  "language_info": {
   "codemirror_mode": {
    "name": "ipython",
    "version": 3
   },
   "file_extension": ".py",
   "mimetype": "text/x-python",
   "name": "python",
   "nbconvert_exporter": "python",
   "pygments_lexer": "ipython3",
   "version": "3.12.0"
  }
 },
 "nbformat": 4,
 "nbformat_minor": 5
}
