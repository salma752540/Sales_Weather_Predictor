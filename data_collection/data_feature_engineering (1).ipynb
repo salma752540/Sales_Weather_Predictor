{
  "cells": [
    {
      "cell_type": "markdown",
      "source": [
        "#  **Préparation des Données Météorologiques et des caractéristiques nécessaires**\n",
        "---\n",
        "**Dans ce notebook, nous avons effectué plusieurs étapes essentielles de prétraitement et d’enrichissement des données météorologiques, avec l’objectif d’améliorer leur qualité et d’extraire des insights utiles pour une analyse approfondie ou une modélisation prédictive.**\n",
        "\n"
      ],
      "metadata": {
        "id": "5UF7_XywR5HY"
      },
      "id": "5UF7_XywR5HY"
    },
    {
      "cell_type": "markdown",
      "source": [
        "# 0️⃣ **Chargement & Compréhension des données**\n",
        "\n",
        "\n",
        "\n"
      ],
      "metadata": {
        "id": "vreVIbrqX4pq"
      },
      "id": "vreVIbrqX4pq"
    },
    {
      "cell_type": "code",
      "execution_count": null,
      "id": "2921f082-26af-4cbb-9555-8e955061c3ad",
      "metadata": {
        "id": "2921f082-26af-4cbb-9555-8e955061c3ad"
      },
      "outputs": [],
      "source": [
        "import pandas as pd\n",
        "df = pd.read_csv(\"C:/Users/salma souissi/Downloads/data_all_cities_hourly.csv\")"
      ]
    },
    {
      "cell_type": "code",
      "execution_count": null,
      "id": "08bb676c-a555-4b29-91cd-d3f1ffbe98d9",
      "metadata": {
        "id": "08bb676c-a555-4b29-91cd-d3f1ffbe98d9",
        "outputId": "1cde8dd7-ef04-430a-eda2-b66b78538904"
      },
      "outputs": [
        {
          "name": "stdout",
          "output_type": "stream",
          "text": [
            "(1042268, 14)\n"
          ]
        }
      ],
      "source": [
        "#taille des données\n",
        "print(df.shape)"
      ]
    },
    {
      "cell_type": "code",
      "execution_count": null,
      "id": "bfaacc17-9cad-4e16-bbcf-6bb58d38d687",
      "metadata": {
        "id": "bfaacc17-9cad-4e16-bbcf-6bb58d38d687",
        "outputId": "ef0f9d6d-7785-4066-fbd3-9978a1985129"
      },
      "outputs": [
        {
          "name": "stdout",
          "output_type": "stream",
          "text": [
            "   temp  dwpt  rhum  prcp  snow   wdir  wspd  wpgt    pres  tsun  coco  \\\n",
            "0  16.3   2.3  39.0   NaN   NaN  260.0   7.6   NaN  1023.8   NaN   2.0   \n",
            "1  15.0   1.1  39.0   NaN   NaN  270.0  13.0   NaN  1023.0   NaN   2.0   \n",
            "2  15.0  -1.2  33.0   NaN   NaN  260.0  11.2   NaN  1023.0   NaN   2.0   \n",
            "3  14.1  -1.1  35.0   NaN   NaN  150.0   1.8   NaN  1023.3   NaN   2.0   \n",
            "4  13.0   1.0  44.0   NaN   NaN  180.0   9.4   NaN  1022.0   NaN   2.0   \n",
            "\n",
            "         date  hour   city  \n",
            "0  2020-02-24    18  Tunis  \n",
            "1  2020-02-24    19  Tunis  \n",
            "2  2020-02-24    20  Tunis  \n",
            "3  2020-02-24    21  Tunis  \n",
            "4  2020-02-24    22  Tunis  \n"
          ]
        }
      ],
      "source": [
        "print(df.head())"
      ]
    },
    {
      "cell_type": "code",
      "execution_count": null,
      "id": "050119e7-79ab-4032-8978-af76e1634c74",
      "metadata": {
        "id": "050119e7-79ab-4032-8978-af76e1634c74",
        "outputId": "2ff4013a-9366-4902-8eb2-bcd2f0669107"
      },
      "outputs": [
        {
          "name": "stdout",
          "output_type": "stream",
          "text": [
            "Index(['temp', 'dwpt', 'rhum', 'prcp', 'snow', 'wdir', 'wspd', 'wpgt', 'pres',\n",
            "       'tsun', 'coco', 'date', 'hour', 'city'],\n",
            "      dtype='object')\n"
          ]
        }
      ],
      "source": [
        "print(df.columns)"
      ]
    },
    {
      "cell_type": "code",
      "execution_count": null,
      "id": "f047bd48-7d9b-4d10-aa3d-2a363fae5407",
      "metadata": {
        "id": "f047bd48-7d9b-4d10-aa3d-2a363fae5407",
        "outputId": "2e4d682e-43a6-4d8f-acf5-e8a2ebb2eb82"
      },
      "outputs": [
        {
          "name": "stdout",
          "output_type": "stream",
          "text": [
            "['Tunis' 'Ariana' 'Ben Arous' 'Manouba' 'Nabeul' 'Zaghouan' 'Bizerte'\n",
            " 'Beja' 'Jendouba' 'Kef' 'Siliana' 'Kasserine' 'Sidi Bouzid' 'Kairouan'\n",
            " 'Kébili' 'Tozeur' 'Gabès' 'Medenine' 'Tataouine' 'Mahdia' 'Monastir'\n",
            " 'Sousse' 'Sfax' 'Gafsa']\n"
          ]
        }
      ],
      "source": [
        "print(df['city'].unique())"
      ]
    },
    {
      "cell_type": "markdown",
      "source": [
        "# 1️⃣**Nettoyage et réorganisation des colonnes**"
      ],
      "metadata": {
        "id": "MOWYb5iKZL2s"
      },
      "id": "MOWYb5iKZL2s"
    },
    {
      "cell_type": "code",
      "execution_count": null,
      "id": "2de94e7b-1d7c-43f7-a071-c328dd52f4f9",
      "metadata": {
        "id": "2de94e7b-1d7c-43f7-a071-c328dd52f4f9",
        "outputId": "9fe718e7-de33-4459-fb8b-8eb59c66bf17"
      },
      "outputs": [
        {
          "name": "stdout",
          "output_type": "stream",
          "text": [
            "    city        date  hour  temperature  precipitation  wind_speed  humidity\n",
            "0  Tunis  2020-02-24    18         16.3            NaN         7.6      39.0\n",
            "1  Tunis  2020-02-24    19         15.0            NaN        13.0      39.0\n",
            "2  Tunis  2020-02-24    20         15.0            NaN        11.2      33.0\n",
            "3  Tunis  2020-02-24    21         14.1            NaN         1.8      35.0\n",
            "4  Tunis  2020-02-24    22         13.0            NaN         9.4      44.0\n"
          ]
        }
      ],
      "source": [
        "# Renommer les colonnes\n",
        "df.rename(columns={\n",
        "    'temp': 'temperature',\n",
        "    'prcp': 'precipitation',\n",
        "    'wspd': 'wind_speed',\n",
        "    'rhum':'humidity'\n",
        "}, inplace=True)\n",
        "#supprimer les colonnes non necessaires\n",
        "df=df.drop(columns=['dwpt','snow','wdir','wpgt','pres','tsun','coco'])\n",
        "# Nouveau ordre des colonnes\n",
        "new_order = ['city', 'date', 'hour', 'temperature', 'precipitation', 'wind_speed','humidity']\n",
        "\n",
        "# Réorganiser les colonnes\n",
        "df = df[new_order]\n",
        "\n",
        "\n",
        "print(df.head())"
      ]
    },
    {
      "cell_type": "code",
      "execution_count": null,
      "id": "d15fb46f-e44f-48c9-9977-2ff55b03d928",
      "metadata": {
        "id": "d15fb46f-e44f-48c9-9977-2ff55b03d928"
      },
      "outputs": [],
      "source": [
        "# Remplacer les valeurs NaN par 0\n",
        "df.fillna(0, inplace=True)"
      ]
    },
    {
      "cell_type": "markdown",
      "source": [
        " ## **Installation de la bibliothèque holidays**\n",
        "\n",
        "---\n",
        "\n",
        "🔹 **holidays est une bibliothèque Python qui permet de récupérer facilement les jours fériés d’un pays donné. Elle est particulièrement utile dans les analyses de séries temporelles, notamment pour identifier l’impact des jours fériés sur certaines variables (ex : ventes, fréquentation, météo, etc.).**\n",
        "\n"
      ],
      "metadata": {
        "id": "2ECi2FPMZ45q"
      },
      "id": "2ECi2FPMZ45q"
    },
    {
      "cell_type": "code",
      "execution_count": null,
      "id": "d9c42bbf-793f-43c0-a2db-a56af7773c8d",
      "metadata": {
        "id": "d9c42bbf-793f-43c0-a2db-a56af7773c8d",
        "outputId": "22809a4d-f8fb-404d-abf5-c65c74c2ee61",
        "collapsed": true
      },
      "outputs": [
        {
          "name": "stdout",
          "output_type": "stream",
          "text": [
            "Collecting holidays\n",
            "  Obtaining dependency information for holidays from https://files.pythonhosted.org/packages/f8/8f/9cff125e50b56e29e7e05776dc74e56fc70b79830f0b85e947e5be831e96/holidays-0.67-py3-none-any.whl.metadata\n",
            "  Downloading holidays-0.67-py3-none-any.whl.metadata (27 kB)\n",
            "Requirement already satisfied: python-dateutil in c:\\users\\salma souissi\\appdata\\local\\programs\\python\\python312\\lib\\site-packages (from holidays) (2.9.0.post0)\n",
            "Requirement already satisfied: six>=1.5 in c:\\users\\salma souissi\\appdata\\local\\programs\\python\\python312\\lib\\site-packages (from python-dateutil->holidays) (1.16.0)\n",
            "Downloading holidays-0.67-py3-none-any.whl (820 kB)\n",
            "   ---------------------------------------- 0.0/820.7 kB ? eta -:--:--\n",
            "   - -------------------------------------- 30.7/820.7 kB 1.3 MB/s eta 0:00:01\n",
            "   -- ------------------------------------ 61.4/820.7 kB 656.4 kB/s eta 0:00:02\n",
            "   ---- --------------------------------- 102.4/820.7 kB 653.6 kB/s eta 0:00:02\n",
            "   ----- -------------------------------- 122.9/820.7 kB 722.1 kB/s eta 0:00:01\n",
            "   -------- ----------------------------- 184.3/820.7 kB 794.9 kB/s eta 0:00:01\n",
            "   --------- ---------------------------- 204.8/820.7 kB 731.4 kB/s eta 0:00:01\n",
            "   ---------- --------------------------- 235.5/820.7 kB 758.5 kB/s eta 0:00:01\n",
            "   ------------ ------------------------- 266.2/820.7 kB 780.5 kB/s eta 0:00:01\n",
            "   -------------- ----------------------- 307.2/820.7 kB 759.5 kB/s eta 0:00:01\n",
            "   ---------------- --------------------- 348.2/820.7 kB 771.5 kB/s eta 0:00:01\n",
            "   ------------------ ------------------- 399.4/820.7 kB 802.3 kB/s eta 0:00:01\n",
            "   -------------------- ----------------- 450.6/820.7 kB 853.3 kB/s eta 0:00:01\n",
            "   ---------------------- --------------- 481.3/820.7 kB 836.7 kB/s eta 0:00:01\n",
            "   ----------------------- -------------- 512.0/820.7 kB 844.7 kB/s eta 0:00:01\n",
            "   -------------------------- ----------- 563.2/820.7 kB 862.7 kB/s eta 0:00:01\n",
            "   -------------------------- ----------- 563.2/820.7 kB 862.7 kB/s eta 0:00:01\n",
            "   ---------------------------- --------- 614.4/820.7 kB 840.3 kB/s eta 0:00:01\n",
            "   ----------------------------- -------- 645.1/820.7 kB 828.8 kB/s eta 0:00:01\n",
            "   ------------------------------ ------- 665.6/820.7 kB 839.1 kB/s eta 0:00:01\n",
            "   ------------------------------ ------- 665.6/820.7 kB 839.1 kB/s eta 0:00:01\n",
            "   ------------------------------ ------- 665.6/820.7 kB 839.1 kB/s eta 0:00:01\n",
            "   ---------------------------------- --- 747.5/820.7 kB 799.7 kB/s eta 0:00:01\n",
            "   ------------------------------------ - 778.2/820.7 kB 805.9 kB/s eta 0:00:01\n",
            "   -------------------------------------  819.2/820.7 kB 809.0 kB/s eta 0:00:01\n",
            "   -------------------------------------  819.2/820.7 kB 809.0 kB/s eta 0:00:01\n",
            "   -------------------------------------  819.2/820.7 kB 809.0 kB/s eta 0:00:01\n",
            "   -------------------------------------  819.2/820.7 kB 809.0 kB/s eta 0:00:01\n",
            "   -------------------------------------  819.2/820.7 kB 809.0 kB/s eta 0:00:01\n",
            "   -------------------------------------  819.2/820.7 kB 809.0 kB/s eta 0:00:01\n",
            "   -------------------------------------  819.2/820.7 kB 809.0 kB/s eta 0:00:01\n",
            "   -------------------------------------  819.2/820.7 kB 809.0 kB/s eta 0:00:01\n",
            "   -------------------------------------  819.2/820.7 kB 809.0 kB/s eta 0:00:01\n",
            "   -------------------------------------  819.2/820.7 kB 809.0 kB/s eta 0:00:01\n",
            "   -------------------------------------  819.2/820.7 kB 809.0 kB/s eta 0:00:01\n",
            "   -------------------------------------  819.2/820.7 kB 809.0 kB/s eta 0:00:01\n",
            "   -------------------------------------- 820.7/820.7 kB 529.4 kB/s eta 0:00:00\n",
            "Installing collected packages: holidays\n",
            "Successfully installed holidays-0.67\n",
            "Note: you may need to restart the kernel to use updated packages.\n"
          ]
        },
        {
          "name": "stderr",
          "output_type": "stream",
          "text": [
            "\n",
            "[notice] A new release of pip is available: 23.2.1 -> 25.0.1\n",
            "[notice] To update, run: C:\\Users\\salma souissi\\AppData\\Local\\Programs\\Python\\Python312\\python.exe -m pip install --upgrade pip\n"
          ]
        }
      ],
      "source": [
        "pip install holidays"
      ]
    },
    {
      "cell_type": "code",
      "execution_count": null,
      "id": "fe591628-0e05-4895-82ae-eaecfcc8766b",
      "metadata": {
        "id": "fe591628-0e05-4895-82ae-eaecfcc8766b"
      },
      "outputs": [],
      "source": [
        "import holidays\n",
        "jours_feries = holidays.country_holidays('TN') #'TN' pour la Tunisie)\n",
        "\n"
      ]
    },
    {
      "cell_type": "code",
      "execution_count": null,
      "id": "152b0548-8ae7-48c5-9d18-4473e59e0846",
      "metadata": {
        "id": "152b0548-8ae7-48c5-9d18-4473e59e0846"
      },
      "outputs": [],
      "source": [
        "# Convertir la colonne Date en datetime\n",
        "df[\"date\"] = pd.to_datetime(df[\"date\"])\n"
      ]
    },
    {
      "cell_type": "markdown",
      "source": [
        "# 2️⃣**Enrichissement du dataset avec de nouvelles caractéristiques**\n",
        "\n",
        "---\n",
        "\n",
        "Dans cette section, nous ajoutons plusieurs colonnes pour capturer des informations temporelles et contextuelles qui pourraient influencer les tendances météorologiques et les comportements des consommateurs.\n",
        "\n"
      ],
      "metadata": {
        "id": "0RAOWNP5aygk"
      },
      "id": "0RAOWNP5aygk"
    },
    {
      "cell_type": "markdown",
      "source": [
        "\n",
        "\n",
        "1.    **Moyenne mobile sur 7 jours** : Cette colonne permet d'ajouter une vision lissée des températures sur une semaine, ce qui est utile pour capturer des tendances et éviter les variations brutales d'un jour à l'autre.\n",
        "## Ajout d’informations temporelles\n",
        "2.   **Le mois 📅** : Cela permettra d’identifier les variations saisonnières.\n",
        "3.   **Le jour de la semaine** : Cette colonne est utile pour observer les tendances hebdomadaires.\n",
        "4.   **Le week-end 🏖️** :  ajouter une colonne binaire (1 si c'est le week-end, 0 sinon), car les comportements peuvent être différents en fin de semaine.\n",
        "## Identification des jours spéciaux\n",
        "5.  **Jour férié**  : Cette colonne est utile pour analyser l'impact des jours fériés sur les ventes ou les habitudes météorologiques.\n",
        "6.  **Saison météorologique 🌞❄️** : Cela permet de différencier les comportements selon la saison.\n",
        "7.  **Vacances scolaires 🏫** : Les périodes de vacances peuvent influencer la consommation et la météo perçue.\n",
        "8.  **Mois du Ramadan 🕌** : Le Ramadan modifie fortement les habitudes de consommation, il est donc important de l’intégrer.\n",
        "9.  **Nouvel Année 🎉** : Les festivités du Nouvel An peuvent influencer les tendances de consommation et de météo.\n",
        "## Catégorisation des régions 🗺️\n",
        "définition d'une classification des régions tunisiennes en trois catégories\n",
        "\n",
        "* Côtières (ex. : Sousse, Monastir, Mahdia...)\n",
        "\n",
        "* Intérieures (ex. : Kairouan, Gafsa, Tataouine...)\n",
        "\n",
        "* Hors côtières (ex. : Tunis, Ariana, Ben Arous...)\n",
        "\n",
        "‖‖ Cela permet d’analyser les différences entre les types de zones. ‖‖\n",
        "## Saison touristique 🏖️\n",
        "Nous définissons trois niveaux de saisonnalité pour le tourisme :\n",
        "\n",
        "* Haute saison (mai à août)\n",
        "\n",
        "* Moyenne saison (avril, septembre à novembre)\n",
        "\n",
        "* Basse saison (janvier à mars, décembre)\n",
        "\n",
        "‖‖ Cela est crucial pour analyser les variations du climat et des habitudes des consommateurs. ‖‖\n",
        "\n",
        "---\n",
        "\n",
        "**Toutes ces transformations permettent d'enrichir notre dataset avec des informations précieuses, facilitant une analyse plus fine des tendances climatiques et comportementales.**\n",
        "\n",
        "\n",
        "\n",
        "\n"
      ],
      "metadata": {
        "id": "LURTOS63gbE7"
      },
      "id": "LURTOS63gbE7"
    },
    {
      "cell_type": "code",
      "execution_count": null,
      "id": "f69ec10f-92be-4fd5-82dc-f449b9162879",
      "metadata": {
        "id": "f69ec10f-92be-4fd5-82dc-f449b9162879"
      },
      "outputs": [],
      "source": [
        "\n",
        "\n",
        "#ajouter une colonne indiquant le mois :\n",
        "df[\"mois\"] = df[\"date\"].dt.month\n",
        "#____________________\n",
        "jours_semaine = [\"Lundi\", \"Mardi\", \"Mercredi\", \"Jeudi\", \"Vendredi\",\"Samedi\", \"Dimanche\"]\n",
        "#Générer les jours en respectant l'ordre\n",
        "df[\"Jour\"] = [jours_semaine[i % 7] for i in range(len(df))]\n",
        "#Ajouter la colonne Weekend (1 si Samedi ou Dimanche, sinon 0)\n",
        "df[\"Weekend\"] = df[\"Jour\"].isin([\"Samedi\", \"Dimanche\"]).astype(int)\n",
        "# Ajouter une colonne indiquant si la date est un jour férié\n",
        "df['jour_ferie'] = df['date'].apply(lambda x: x in jours_feries).astype(int)\n",
        "# Ajouter une colonne \"saison\"\n",
        "df[\"saison\"] = df[\"date\"].apply(lambda x: \"été\" if x.month in [6, 7, 8] else \"hiver\" if x.month in [12, 1, 2] else \"printemps/automne\")\n",
        "#vacances scolaires :\n",
        "vacances_scolaires = [('2020-12-15', '2021-01-01'), ('2021-03-14', '2021-03-27'),('2021-06-30','2021-09-14'),('2021-12-15', '2022-01-01'), ('2022-03-14', '2022-03-27'),('2022-06-30','2022-09-14'),('2022-11-15', '2023-01-1'), ('2023-03-14', '2023-03-27'),('2023-06-30','2023-09-14'),('2023-11-15', '2024-01-1'), ('2024-03-14', '2024-03-27'),('2024-06-30','2024-09-14')]\n",
        "df['vacances_scolaires'] = df['date'].apply(\n",
        "    lambda x: 1 if any(pd.to_datetime(start) <= x <= pd.to_datetime(end) for start, end in vacances_scolaires) else 0)\n",
        "#ramadan :\n",
        "ramadan_dates = {\n",
        "    '2020': ('2020-04-23', '2020-05-23'),\n",
        "    '2021': ('2021-04-13', '2021-05-12'),\n",
        "    '2022': ('2022-04-02', '2022-05-01'),\n",
        "    '2023': ('2023-03-23', '2023-04-22'),\n",
        "    '2024': ('2024-03-11', '2024-04-09')\n",
        "}\n",
        "df['ramadan'] = df['date'].apply(\n",
        "    lambda x: 1 if any(pd.to_datetime(start) <= x <= pd.to_datetime(end) for start, end in ramadan_dates.values()) else 0)\n",
        "#new year:\n",
        "new_year_dates = [('2020-12-31', '2020-12-31'), ('2021-12-31', '2021-12-31'), ('2022-12-31', '2022-12-31'),('2023-12-31', '2023-12-31'),('2024-12-31','2024-12-31'), ('2025-12-31','2025-12-31') ]\n",
        "df['new_year'] = df['date'].apply(\n",
        "    lambda x: 1 if any(pd.to_datetime(start) == x for start, end in new_year_dates) else 0)\n",
        "#type region :\n",
        "regions = {\n",
        "    'Tunis': 'Hors côtier',\n",
        "    'Sousse': 'Côtière',\n",
        "    'Monastir': 'Côtière',\n",
        "    'Sfax': 'Hors côtier',\n",
        "    'Kairouan': 'Intérieure',\n",
        "    'Gafsa': 'Intérieure',\n",
        "    'Mahdia': 'Côtière',\n",
        "    'Nabeul': 'Côtière',\n",
        "    'Tozeur': 'Intérieure',\n",
        "    'Jendouba': 'Intérieure',\n",
        "    'Bizerte': 'Côtière',\n",
        "    'Kasserine': 'Intérieure',\n",
        "    'Tataouine': 'Intérieure',\n",
        "    'Ariana':'Hors côtier',\n",
        "    'Ben Arous':'Hors côtier',\n",
        "    'Manouba':'Hors côtier',\n",
        "    'Zaghouan':'Hors côtier',\n",
        "    'Kébili':'Intérieure',\n",
        "    'Gabès':'Intérieure',\n",
        "    'Medenine':'Intérieure',\n",
        "    'Sidi Bouzid':'Intérieure',\n",
        "    'Beja':'Intérieure',\n",
        "    'Kef':'Intérieure',\n",
        "    'Siliana':'Intérieure'\n",
        "\n",
        "}\n",
        "\n",
        "df['Region'] = df['city'].apply(lambda x: regions.get(x, 'Unknown'))\n",
        "# Définition des mois qui représentent la haute et basse saison touristique\n",
        "high_season_months = [5,6,7,8]\n",
        "medium_season_months = [4,9,10,11]\n",
        "low_season_months = [1,2,3,12]\n",
        "\n",
        "# Ajout d'une nouvelle colonne qui définit la saison touristique en fonction du mois\n",
        "def get_season(month):\n",
        "    if month in high_season_months:\n",
        "        return 'Haute '\n",
        "    elif month in medium_season_months:\n",
        "        return 'Moyenne'\n",
        "    else:\n",
        "        return 'Basse '\n",
        "df['saison_toristique'] = df['mois'].apply(lambda x: get_season(x))\n",
        "\n",
        "\n"
      ]
    },
    {
      "cell_type": "code",
      "execution_count": null,
      "id": "7a235576-071b-4201-95d8-bf11fc5583f9",
      "metadata": {
        "id": "7a235576-071b-4201-95d8-bf11fc5583f9"
      },
      "outputs": [],
      "source": [
        "# Sauvegarder le DataFrame en fichier CSV\n",
        "df.to_csv('features.csv', index=False)"
      ]
    },
    {
      "cell_type": "markdown",
      "source": [
        "# 3️⃣**📊 Regroupement des données par jour et calcul des indices météorologiques 🌦️**\n",
        "\n",
        "Dans cette étape, nous avons regroupé les données de notre dataset pour obtenir des informations agrégées sur une base quotidienne. Nous avons aussi créé plusieurs indices météorologiques importants, permettant d'analyser des phénomènes extrêmes comme les vagues de chaleur, les vagues de froid, les tempêtes, les sécheresses, et les pluies intenses."
      ],
      "metadata": {
        "id": "ucODFi7mmYJd"
      },
      "id": "ucODFi7mmYJd"
    },
    {
      "cell_type": "code",
      "execution_count": null,
      "id": "4b53c1f9-eb91-4f72-91f5-a075078be763",
      "metadata": {
        "id": "4b53c1f9-eb91-4f72-91f5-a075078be763",
        "outputId": "672da8c5-d55f-4371-a9a8-c3680b0aec84"
      },
      "outputs": [
        {
          "name": "stdout",
          "output_type": "stream",
          "text": [
            "        date  temp_jour  humidity_jour  wind_speed_jour  precip_jour  \\\n",
            "0 2020-02-24  13.800746      52.716418         7.581343          0.0   \n",
            "1 2020-02-25  14.955556      49.996357         9.367395          0.0   \n",
            "2 2020-02-26  15.680470      51.254973        11.401630          0.0   \n",
            "3 2020-02-27  14.884991      55.578662        11.785172          0.0   \n",
            "4 2020-02-28  15.732051      51.912088        12.672711          0.0   \n",
            "\n",
            "   point de rosée/jour  \n",
            "0             3.512687  \n",
            "1             3.074499  \n",
            "2             4.369982  \n",
            "3             5.290416  \n",
            "4             4.512821  \n"
          ]
        }
      ],
      "source": [
        "'''Regrouper les données par jour'''\n",
        "import pandas as pd\n",
        "\n",
        "df1['date'] = pd.to_datetime(df1['date'])\n",
        "\n",
        "# Regroupement par jour\n",
        "df_journaliere = df1.groupby('date').agg({\n",
        "    'temp': 'mean',  # Moyenne de la température\n",
        "    'rhum': 'mean',  # Moyenne de l'humidité\n",
        "    'wspd': 'mean',  # Moyenne de la vitesse du vent\n",
        "    'prcp': 'sum',  # Somme des précipitations\n",
        "    'dwpt': 'mean'  # Point de rosée moyen\n",
        "}).reset_index()\n",
        "\n",
        "# Renommage des colonnes pour éviter toute confusion\n",
        "df_journaliere.rename(columns={\n",
        "    'temp': 'temp_jour',\n",
        "    'rhum': 'humidity_jour',\n",
        "    'wspd': 'wind_speed_jour',\n",
        "    'prcp': 'precip_jour',\n",
        "    'dwpt': 'point de rosée/jour'\n",
        "}, inplace=True)\n",
        "\n",
        "print(df_journaliere.head())\n",
        "\n"
      ]
    },
    {
      "cell_type": "code",
      "execution_count": null,
      "id": "512eff16-b2b8-485a-8aa5-a87952897a97",
      "metadata": {
        "id": "512eff16-b2b8-485a-8aa5-a87952897a97",
        "outputId": "5016fdbe-c2b9-456e-ddea-4898f8e52f07"
      },
      "outputs": [
        {
          "name": "stdout",
          "output_type": "stream",
          "text": [
            "(1826, 9)\n"
          ]
        }
      ],
      "source": [
        "print(df_journaliere.shape)"
      ]
    },
    {
      "cell_type": "markdown",
      "source": [
        "**Indice de Vague de Chaleur (Heat Wave Index)** : Cet indice détecte les vagues de chaleur en vérifiant si la température quotidienne dépasse 35°C pendant 3 jours consécutifs. L'indice prend la valeur 1 si la condition est remplie, sinon 0.\n",
        "\n",
        "**Indice de Vague de Froid (Cold Wave Index)** : Cet indice identifie les vagues de froid en vérifiant si la température quotidienne reste inférieure à 9°C pendant 3 jours consécutifs.\n",
        "\n",
        "**Indice de Pluie Intense (Heavy Rain Index)** : Cet indice signale une pluie intense lorsque les précipitations quotidiennes dépassent 50 mm.\n",
        "\n",
        "**Indice de Tempête (Storm Index)** : Cet indice identifie les tempêtes en vérifiant si la vitesse du vent dépasse 60 km/h.\n",
        "\n",
        "**Indice de Sécheresse (Drought Index)** : Cet indice détecte les périodes de sécheresse en vérifiant si les précipitations cumulées sur les 20 derniers jours sont inférieures à 10 mm."
      ],
      "metadata": {
        "id": "CzakiVULm3G8"
      },
      "id": "CzakiVULm3G8"
    },
    {
      "cell_type": "code",
      "execution_count": null,
      "id": "466b70aa-0c65-44c9-9b0e-4eaf7ac1ff86",
      "metadata": {
        "id": "466b70aa-0c65-44c9-9b0e-4eaf7ac1ff86"
      },
      "outputs": [],
      "source": [
        "'''indice de Vague de Chaleur (Heat Wave Index)'''\n",
        "df_journaliere['Indice de Vague de Chaleur'] = ((df_journaliere['temp_jour'] > 35).rolling(window=3).sum() >= 3).astype(int)\n",
        "'''Indice de Vague de Froid (Cold Wave Index)'''\n",
        "df_journaliere['Indice de Vague de Froid '] = ((df_journaliere['temp_jour'] < 9).rolling(window=3).sum() >= 3).astype(int)\n",
        "'''Indice de Pluie Intense (Heavy Rain Index)'''\n",
        "df_journaliere['Indice de Pluie Intense'] = (df_journaliere['precip_jour'] > 50).astype(int)\n",
        "'''Indice de Tempête (Storm Index)'''\n",
        "df_journaliere['Indice de Tempête'] = (df_journaliere['wind_speed_jour'] > 60).astype(int)\n",
        "'''Indice de Sécheresse (Drought Index)'''\n",
        "df_journaliere['Indice de sécheresse'] = (df_journaliere['precip_jour'].rolling(window=20).sum() < 10).astype(int)"
      ]
    },
    {
      "cell_type": "code",
      "execution_count": null,
      "id": "79c70506-018e-45a7-b3aa-f73a23b3c441",
      "metadata": {
        "id": "79c70506-018e-45a7-b3aa-f73a23b3c441"
      },
      "outputs": [],
      "source": [
        "# Remplacer les valeurs NaN par 0\n",
        "df_journaliere.fillna(0, inplace=True)"
      ]
    },
    {
      "cell_type": "code",
      "execution_count": null,
      "id": "46c03dc5-8083-48d3-9d57-10cf1104239f",
      "metadata": {
        "id": "46c03dc5-8083-48d3-9d57-10cf1104239f",
        "outputId": "7aae8853-ef5b-4750-f36d-a10689ebdc2c",
        "collapsed": true
      },
      "outputs": [
        {
          "name": "stdout",
          "output_type": "stream",
          "text": [
            "Collecting pythermalcomfortNote: you may need to restart the kernel to use updated packages.\n",
            "\n",
            "  Obtaining dependency information for pythermalcomfort from https://files.pythonhosted.org/packages/36/7b/7c9f7be8248d048cef535acea7ab71fa9d23e8b7a2dba1ffa9b66e5315d9/pythermalcomfort-3.0.0-py2.py3-none-any.whl.metadata\n",
            "  Downloading pythermalcomfort-3.0.0-py2.py3-none-any.whl.metadata (17 kB)\n",
            "Requirement already satisfied: scipy in c:\\users\\salma souissi\\appdata\\local\\programs\\python\\python312\\lib\\site-packages (from pythermalcomfort) (1.12.0)\n",
            "Requirement already satisfied: numba in c:\\users\\salma souissi\\appdata\\local\\programs\\python\\python312\\lib\\site-packages (from pythermalcomfort) (0.59.1)\n",
            "Requirement already satisfied: numpy in c:\\users\\salma souissi\\appdata\\local\\programs\\python\\python312\\lib\\site-packages (from pythermalcomfort) (1.26.4)\n",
            "Requirement already satisfied: setuptools in c:\\users\\salma souissi\\appdata\\local\\programs\\python\\python312\\lib\\site-packages (from pythermalcomfort) (75.1.0)\n",
            "Requirement already satisfied: llvmlite<0.43,>=0.42.0dev0 in c:\\users\\salma souissi\\appdata\\local\\programs\\python\\python312\\lib\\site-packages (from numba->pythermalcomfort) (0.42.0)\n",
            "Downloading pythermalcomfort-3.0.0-py2.py3-none-any.whl (162 kB)\n",
            "   ---------------------------------------- 0.0/162.8 kB ? eta -:--:--\n",
            "   ---------------------------------------- 0.0/162.8 kB ? eta -:--:--\n",
            "   -- ------------------------------------- 10.2/162.8 kB ? eta -:--:--\n",
            "   ------- ------------------------------- 30.7/162.8 kB 435.7 kB/s eta 0:00:01\n",
            "   ------------------- ------------------- 81.9/162.8 kB 573.4 kB/s eta 0:00:01\n",
            "   ---------------------------- --------- 122.9/162.8 kB 654.9 kB/s eta 0:00:01\n",
            "   ----------------------------------- -- 153.6/162.8 kB 654.6 kB/s eta 0:00:01\n",
            "   ----------------------------------- -- 153.6/162.8 kB 654.6 kB/s eta 0:00:01\n",
            "   ----------------------------------- -- 153.6/162.8 kB 654.6 kB/s eta 0:00:01\n",
            "   ----------------------------------- -- 153.6/162.8 kB 654.6 kB/s eta 0:00:01\n",
            "   ----------------------------------- -- 153.6/162.8 kB 654.6 kB/s eta 0:00:01\n",
            "   ----------------------------------- -- 153.6/162.8 kB 654.6 kB/s eta 0:00:01\n",
            "   ----------------------------------- -- 153.6/162.8 kB 654.6 kB/s eta 0:00:01\n",
            "   ----------------------------------- -- 153.6/162.8 kB 654.6 kB/s eta 0:00:01\n",
            "   ----------------------------------- -- 153.6/162.8 kB 654.6 kB/s eta 0:00:01\n",
            "   ----------------------------------- -- 153.6/162.8 kB 654.6 kB/s eta 0:00:01\n",
            "   ----------------------------------- -- 153.6/162.8 kB 654.6 kB/s eta 0:00:01\n",
            "   ----------------------------------- -- 153.6/162.8 kB 654.6 kB/s eta 0:00:01\n",
            "   ----------------------------------- -- 153.6/162.8 kB 654.6 kB/s eta 0:00:01\n",
            "   -------------------------------------- 162.8/162.8 kB 187.9 kB/s eta 0:00:00\n",
            "Installing collected packages: pythermalcomfort\n",
            "Successfully installed pythermalcomfort-3.0.0\n"
          ]
        },
        {
          "name": "stderr",
          "output_type": "stream",
          "text": [
            "\n",
            "[notice] A new release of pip is available: 23.2.1 -> 25.0.1\n",
            "[notice] To update, run: C:\\Users\\salma souissi\\AppData\\Local\\Programs\\Python\\Python312\\python.exe -m pip install --upgrade pip\n"
          ]
        }
      ],
      "source": [
        "pip install pythermalcomfort #Cette bibliothèque permet de calculer des indices de confort thermique, ce qui peut être utile pour analyser des conditions environnementales liées à la température, l'humidité, la vitesse du vent, etc."
      ]
    },
    {
      "cell_type": "code",
      "execution_count": null,
      "id": "9f6b2883-3faa-4005-a5e2-fbe317269043",
      "metadata": {
        "id": "9f6b2883-3faa-4005-a5e2-fbe317269043",
        "outputId": "d9d12f15-e15d-4bcc-a6f1-c0dd4ebede95",
        "collapsed": true
      },
      "outputs": [
        {
          "name": "stdout",
          "output_type": "stream",
          "text": [
            "           date  temp_jour  humidity_jour  wind_speed_jour  precip_jour  \\\n",
            "0    2020-02-24  13.800746      52.716418         7.581343          0.0   \n",
            "1    2020-02-25  14.955556      49.996357         9.367395          0.0   \n",
            "2    2020-02-26  15.680470      51.254973        11.401630          0.0   \n",
            "3    2020-02-27  14.884991      55.578662        11.785172          0.0   \n",
            "4    2020-02-28  15.732051      51.912088        12.672711          0.0   \n",
            "...         ...        ...            ...              ...          ...   \n",
            "1821 2025-02-18  13.087326      75.267361         9.447743          0.0   \n",
            "1822 2025-02-19  13.060243      78.616319         9.771007          0.0   \n",
            "1823 2025-02-20  13.786806      77.914931        12.419792          1.4   \n",
            "1824 2025-02-21  13.944097      78.774306        11.956597         13.3   \n",
            "1825 2025-02-22  14.126620      71.662037        11.531713          2.8   \n",
            "\n",
            "      point de rosée/jour  Indice de Chaleur  refroidissement éolien  \\\n",
            "0                3.512687          13.800746               13.800746   \n",
            "1                3.074499          14.955556               14.955556   \n",
            "2                4.369982          15.680470               15.680470   \n",
            "3                5.290416          14.884991               14.884991   \n",
            "4                4.512821          15.732051               15.732051   \n",
            "...                   ...                ...                     ...   \n",
            "1821             8.320833          13.087326               13.087326   \n",
            "1822             8.933854          13.060243               13.060243   \n",
            "1823             9.486458          13.786806               13.786806   \n",
            "1824             9.972917          13.944097               13.944097   \n",
            "1825             8.521528          14.126620               14.126620   \n",
            "\n",
            "      Indice d’inconfort  Indice de Vague de Chaleur  \\\n",
            "0              13.800746                           0   \n",
            "1              14.955556                           0   \n",
            "2              15.680470                           0   \n",
            "3              14.884991                           0   \n",
            "4              15.732051                           0   \n",
            "...                  ...                         ...   \n",
            "1821           13.087326                           0   \n",
            "1822           13.060243                           0   \n",
            "1823           13.786806                           0   \n",
            "1824           13.944097                           0   \n",
            "1825           14.126620                           0   \n",
            "\n",
            "      Indice de Vague de Froid   Indice de Pluie Intense  Indice de Tempête  \\\n",
            "0                             0                        0                  0   \n",
            "1                             0                        0                  0   \n",
            "2                             0                        0                  0   \n",
            "3                             0                        0                  0   \n",
            "4                             0                        0                  0   \n",
            "...                         ...                      ...                ...   \n",
            "1821                          0                        0                  0   \n",
            "1822                          0                        0                  0   \n",
            "1823                          0                        0                  0   \n",
            "1824                          0                        0                  0   \n",
            "1825                          0                        0                  0   \n",
            "\n",
            "      Indice de sécheresse       Indice climatique thermique universel (ICTU)  \n",
            "0                        0  UTCI(utci=0.7, stress_category='slight cold st...  \n",
            "1                        0  UTCI(utci=0.5, stress_category='slight cold st...  \n",
            "2                        0  UTCI(utci=-0.4, stress_category='moderate cold...  \n",
            "3                        0  UTCI(utci=-2.2, stress_category='moderate cold...  \n",
            "4                        0  UTCI(utci=-2.0, stress_category='moderate cold...  \n",
            "...                    ...                                                ...  \n",
            "1821                     0  UTCI(utci=-1.9, stress_category='moderate cold...  \n",
            "1822                     0  UTCI(utci=-2.3, stress_category='moderate cold...  \n",
            "1823                     0  UTCI(utci=-4.5, stress_category='moderate cold...  \n",
            "1824                     0  UTCI(utci=-3.5, stress_category='moderate cold...  \n",
            "1825                     0  UTCI(utci=-2.7, stress_category='moderate cold...  \n",
            "\n",
            "[1826 rows x 15 columns]\n"
          ]
        }
      ],
      "source": [
        "'''Indice climatique thermique universel (ICTU) '''\n",
        "from pythermalcomfort.models import utci\n",
        "\n",
        "# Calcul de l'ICTU simplifié pour chaque ligne\n",
        "df_journaliere['Indice climatique thermique universel (ICTU)'] = df_journaliere.apply(\n",
        "    lambda row: utci(tdb=row['temp_jour'], rh=row['humidity_jour'], v=row['wind_speed_jour'], tr=row['temp_jour']),\n",
        "    axis=1\n",
        ")\n",
        "\n",
        "print(df_journaliere)"
      ]
    },
    {
      "cell_type": "markdown",
      "source": [
        "1. **Heat Index (Indice de Chaleur)** : L'indice de chaleur est calculé en fonction de la température et de l'humidité relative. Si la température est inférieure à 27°C ou si l'humidité relative est inférieure à 40%, il retourne simplement la température. Sinon, il utilise une formule plus complexe qui tient compte de ces deux paramètres pour donner une estimation de la sensation thermique.\n",
        "\n",
        "2. **Wind Chill (Refroidissement Éolien)** : Le refroidissement éolien est utilisé pour décrire la sensation thermique ressentie en raison du vent. Si la température est supérieure à 10°C ou si la vitesse du vent est inférieure à 4,8 km/h, la température réelle est utilisée. Sinon, une formule prenant en compte la température et la vitesse du vent calcule un refroidissement supplémentaire dû au vent.\n",
        "\n",
        "3. **Humidex (Indice d’Inconfort)** : L'humidex est un indice utilisé pour quantifier l'inconfort ressenti à cause de la chaleur et de l'humidité. Il utilise la température et le point de rosée pour calculer une valeur représentant le confort thermique."
      ],
      "metadata": {
        "id": "PoxKtZCfticM"
      },
      "id": "PoxKtZCfticM"
    },
    {
      "cell_type": "code",
      "execution_count": null,
      "id": "04731eaf-25b3-479d-b3d1-c1a068ac1c3b",
      "metadata": {
        "id": "04731eaf-25b3-479d-b3d1-c1a068ac1c3b",
        "outputId": "8f8ffb2d-2bd2-4a5d-f1c6-d85eb2137d87"
      },
      "outputs": [
        {
          "name": "stdout",
          "output_type": "stream",
          "text": [
            "           date  temp_jour  humidity_jour  wind_speed_jour  precip_jour  \\\n",
            "0    2020-02-24  13.800746      52.716418         7.581343          0.0   \n",
            "1    2020-02-25  14.955556      49.996357         9.367395          0.0   \n",
            "2    2020-02-26  15.680470      51.254973        11.401630          0.0   \n",
            "3    2020-02-27  14.884991      55.578662        11.785172          0.0   \n",
            "4    2020-02-28  15.732051      51.912088        12.672711          0.0   \n",
            "...         ...        ...            ...              ...          ...   \n",
            "1821 2025-02-18  13.087326      75.267361         9.447743          0.0   \n",
            "1822 2025-02-19  13.060243      78.616319         9.771007          0.0   \n",
            "1823 2025-02-20  13.786806      77.914931        12.419792          1.4   \n",
            "1824 2025-02-21  13.944097      78.774306        11.956597         13.3   \n",
            "1825 2025-02-22  14.126620      71.662037        11.531713          2.8   \n",
            "\n",
            "      point de rosée/jour  Indice de Chaleur  refroidissement éolien  \\\n",
            "0                3.512687          13.800746               13.800746   \n",
            "1                3.074499          14.955556               14.955556   \n",
            "2                4.369982          15.680470               15.680470   \n",
            "3                5.290416          14.884991               14.884991   \n",
            "4                4.512821          15.732051               15.732051   \n",
            "...                   ...                ...                     ...   \n",
            "1821             8.320833          13.087326               13.087326   \n",
            "1822             8.933854          13.060243               13.060243   \n",
            "1823             9.486458          13.786806               13.786806   \n",
            "1824             9.972917          13.944097               13.944097   \n",
            "1825             8.521528          14.126620               14.126620   \n",
            "\n",
            "      Indice d’inconfort  \n",
            "0              13.800746  \n",
            "1              14.955556  \n",
            "2              15.680470  \n",
            "3              14.884991  \n",
            "4              15.732051  \n",
            "...                  ...  \n",
            "1821           13.087326  \n",
            "1822           13.060243  \n",
            "1823           13.786806  \n",
            "1824           13.944097  \n",
            "1825           14.126620  \n",
            "\n",
            "[1826 rows x 9 columns]\n"
          ]
        }
      ],
      "source": [
        "import pandas as pd\n",
        "import numpy as np\n",
        "\n",
        "# Fonctions de calcul des indices de confort thermique\n",
        "'''Heat Index (Indice de Chaleur)'''\n",
        "\n",
        "def calculate_heat_index(temp, rhum):\n",
        "    if temp < 27 or rhum < 40:\n",
        "        return temp\n",
        "    else:\n",
        "        return (\n",
        "            -8.78469475556 + 1.61139411 * temp + 2.33854883889 * rhum\n",
        "            - 0.14611605 * temp * rhum - 0.012308094 * (temp ** 2)\n",
        "            - 0.0164248277778 * (rhum ** 2) + 0.002211732 * (temp ** 2) * rhum\n",
        "            + 0.00072546 * temp * (rhum ** 2) - 0.000003582 * (temp ** 2) * (rhum ** 2)\n",
        "        )\n",
        "'''refroidissement éolien'''\n",
        "def calculate_wind_chill(temp, wspd):\n",
        "    if temp > 10 or wspd < 4.8:\n",
        "        return temp\n",
        "    else:\n",
        "        return 13.12 + 0.6215 * temp - 11.37 * (wspd ** 0.16) + 0.3965 * temp * (wspd ** 0.16)\n",
        "'''Indice d’inconfort'''\n",
        "def calculate_humidex(temp, dwpt):\n",
        "    if temp < 20 or dwpt < 10:\n",
        "        return temp\n",
        "    else:\n",
        "        return temp + 0.5555 * (6.11 * np.exp(5417.7530 * (1/273.16 - 1/(dwpt + 273.15))) - 10)\n",
        "\n",
        "# Ajout des colonnes des indices\n",
        "df_journaliere['Indice de Chaleur'] = df_journaliere.apply(lambda row: calculate_heat_index(row['temp_jour'], row['humidity_jour']), axis=1)\n",
        "df_journaliere['refroidissement éolien'] = df_journaliere.apply(lambda row: calculate_wind_chill(row['temp_jour'], row['wind_speed_jour']), axis=1)\n",
        "df_journaliere['Indice d’inconfort'] = df_journaliere.apply(lambda row: calculate_humidex(row['temp_jour'], row['point de rosée/jour']), axis=1)\n",
        "\n",
        "# Affichage du DataFrame mis à jour\n",
        "print(df_journaliere)"
      ]
    },
    {
      "cell_type": "code",
      "execution_count": null,
      "id": "3a013c67-7040-4094-b510-5f16f6c3eb4a",
      "metadata": {
        "id": "3a013c67-7040-4094-b510-5f16f6c3eb4a"
      },
      "outputs": [],
      "source": [
        "# Remplacer les valeurs NaN par 0\n",
        "df_journaliere.fillna(0, inplace=True)"
      ]
    },
    {
      "cell_type": "code",
      "execution_count": null,
      "id": "759e6191-12c0-45a8-aabf-6abd285d2ea0",
      "metadata": {
        "id": "759e6191-12c0-45a8-aabf-6abd285d2ea0",
        "outputId": "65ddad5b-0208-43af-949a-bf5111e1e6ec"
      },
      "outputs": [
        {
          "name": "stdout",
          "output_type": "stream",
          "text": [
            "(1826, 15)\n"
          ]
        }
      ],
      "source": [
        "print(df_journaliere.shape)"
      ]
    },
    {
      "cell_type": "code",
      "execution_count": null,
      "id": "7a046506-e7c8-4d0f-b3f3-d790f4a19370",
      "metadata": {
        "id": "7a046506-e7c8-4d0f-b3f3-d790f4a19370"
      },
      "outputs": [],
      "source": [
        "import pandas as pd\n",
        "df = pd.read_csv(\"features.csv\")"
      ]
    },
    {
      "cell_type": "code",
      "execution_count": null,
      "id": "55bf17b0-add0-4e51-9d68-ee8dfc6a1c2d",
      "metadata": {
        "id": "55bf17b0-add0-4e51-9d68-ee8dfc6a1c2d",
        "outputId": "7eee06fc-37ff-4199-a371-7202033e9448"
      },
      "outputs": [
        {
          "name": "stdout",
          "output_type": "stream",
          "text": [
            "    city       date  hour  temperature  precipitation  wind_speed  humidity  \\\n",
            "0  Tunis 2020-02-24    18         16.3            0.0         7.6      39.0   \n",
            "1  Tunis 2020-02-24    19         15.0            0.0        13.0      39.0   \n",
            "2  Tunis 2020-02-24    20         15.0            0.0        11.2      33.0   \n",
            "3  Tunis 2020-02-24    21         14.1            0.0         1.8      35.0   \n",
            "4  Tunis 2020-02-24    22         13.0            0.0         9.4      44.0   \n",
            "\n",
            "   température_moyenne_7j  mois      Jour  ...  point de rosée/jour  \\\n",
            "0               16.300000     2     Lundi  ...             3.512687   \n",
            "1               15.650000     2     Mardi  ...             3.512687   \n",
            "2               15.433333     2  Mercredi  ...             3.512687   \n",
            "3               15.100000     2     Jeudi  ...             3.512687   \n",
            "4               14.680000     2  Vendredi  ...             3.512687   \n",
            "\n",
            "   Indice de Chaleur refroidissement éolien  Indice d’inconfort  \\\n",
            "0          13.800746              13.800746           13.800746   \n",
            "1          13.800746              13.800746           13.800746   \n",
            "2          13.800746              13.800746           13.800746   \n",
            "3          13.800746              13.800746           13.800746   \n",
            "4          13.800746              13.800746           13.800746   \n",
            "\n",
            "   Indice de Vague de Chaleur  Indice de Vague de Froid   \\\n",
            "0                           0                          0   \n",
            "1                           0                          0   \n",
            "2                           0                          0   \n",
            "3                           0                          0   \n",
            "4                           0                          0   \n",
            "\n",
            "  Indice de Pluie Intense Indice de Tempête Indice de sécheresse  \\\n",
            "0                       0                 0                    0   \n",
            "1                       0                 0                    0   \n",
            "2                       0                 0                    0   \n",
            "3                       0                 0                    0   \n",
            "4                       0                 0                    0   \n",
            "\n",
            "        Indice climatique thermique universel (ICTU)  \n",
            "0  UTCI(utci=0.7, stress_category='slight cold st...  \n",
            "1  UTCI(utci=0.7, stress_category='slight cold st...  \n",
            "2  UTCI(utci=0.7, stress_category='slight cold st...  \n",
            "3  UTCI(utci=0.7, stress_category='slight cold st...  \n",
            "4  UTCI(utci=0.7, stress_category='slight cold st...  \n",
            "\n",
            "[5 rows x 35 columns]\n"
          ]
        }
      ],
      "source": [
        "# Fusionner les DataFrames  sur la colonne 'date'\n",
        "df['date'] = pd.to_datetime(df['date'])\n",
        "\n",
        "df = df.merge(df_journaliere, on='date', how='left')\n",
        "\n",
        "\n",
        "print(df.head())"
      ]
    },
    {
      "cell_type": "code",
      "execution_count": null,
      "id": "a0edb704-e81e-4be8-9556-b91ec1a30b14",
      "metadata": {
        "id": "a0edb704-e81e-4be8-9556-b91ec1a30b14"
      },
      "outputs": [],
      "source": [
        "\n",
        "df.to_csv('features.csv', index=False)"
      ]
    },
    {
      "cell_type": "code",
      "execution_count": null,
      "id": "c3bc3317-eaa7-4ebd-b1b6-b8b378b6c21d",
      "metadata": {
        "id": "c3bc3317-eaa7-4ebd-b1b6-b8b378b6c21d",
        "outputId": "6e2a2670-c361-45f8-c92a-963cab170deb"
      },
      "outputs": [
        {
          "name": "stdout",
          "output_type": "stream",
          "text": [
            "Index(['city', 'date', 'hour', 'temperature', 'precipitation', 'wind_speed',\n",
            "       'humidity', 'température_moyenne_7j', 'mois', 'Jour', 'Weekend',\n",
            "       'jour_ferie', 'saison', 'vacances_scolaires', 'ramadan', 'new_year',\n",
            "       'Region', 'saison_toristique', 'periode_journee', 'ventes_glaces',\n",
            "       'ventes_boissons', 'temp_jour', 'humidity_jour', 'wind_speed_jour',\n",
            "       'precip_jour', 'point de rosée/jour', 'Indice de Chaleur',\n",
            "       'refroidissement éolien', 'Indice d’inconfort',\n",
            "       'Indice de Vague de Chaleur', 'Indice de Vague de Froid ',\n",
            "       'Indice de Pluie Intense', 'Indice de Tempête', 'Indice de sécheresse',\n",
            "       'Indice climatique thermique universel (ICTU)'],\n",
            "      dtype='object')\n"
          ]
        }
      ],
      "source": [
        "print(df.columns)"
      ]
    },
    {
      "cell_type": "markdown",
      "source": [
        "# 4️⃣ **Ajouter des variables de décalage temporel (ou lag features)**"
      ],
      "metadata": {
        "id": "d4BUfIp0PTqe"
      },
      "id": "d4BUfIp0PTqe"
    },
    {
      "cell_type": "code",
      "execution_count": null,
      "id": "e18d7739-bb1e-4520-9655-d734498e91fb",
      "metadata": {
        "id": "e18d7739-bb1e-4520-9655-d734498e91fb",
        "outputId": "3d35523f-4fa0-4455-9c4c-ededee761370"
      },
      "outputs": [
        {
          "name": "stdout",
          "output_type": "stream",
          "text": [
            "    city        date  hour  temperature  precipitation  wind_speed  humidity  \\\n",
            "0  Tunis  2020-02-24    18         16.3            0.0         7.6      39.0   \n",
            "1  Tunis  2020-02-24    19         15.0            0.0        13.0      39.0   \n",
            "2  Tunis  2020-02-24    20         15.0            0.0        11.2      33.0   \n",
            "3  Tunis  2020-02-24    21         14.1            0.0         1.8      35.0   \n",
            "4  Tunis  2020-02-24    22         13.0            0.0         9.4      44.0   \n",
            "\n",
            "   mois      Jour  Weekend  ...  wind_speed_jour_lag1 temp_jour_lag3  \\\n",
            "0     2     Lundi        0  ...                   NaN            NaN   \n",
            "1     2     Mardi        0  ...              7.581343            NaN   \n",
            "2     2  Mercredi        0  ...              7.581343            NaN   \n",
            "3     2     Jeudi        0  ...              7.581343      13.800746   \n",
            "4     2  Vendredi        0  ...              7.581343      13.800746   \n",
            "\n",
            "   humidity_jour_lag3  wind_speed_jour_lag3  temp_jour_lag7  \\\n",
            "0                 NaN                   NaN             NaN   \n",
            "1                 NaN                   NaN             NaN   \n",
            "2                 NaN                   NaN             NaN   \n",
            "3           52.716418              7.581343             NaN   \n",
            "4           52.716418              7.581343             NaN   \n",
            "\n",
            "  humidity_jour_lag7 wind_speed_jour_lag7 precip_jour_lag1  precip_jour_lag3  \\\n",
            "0                NaN                  NaN              NaN               NaN   \n",
            "1                NaN                  NaN              0.0               NaN   \n",
            "2                NaN                  NaN              0.0               NaN   \n",
            "3                NaN                  NaN              0.0               0.0   \n",
            "4                NaN                  NaN              0.0               0.0   \n",
            "\n",
            "   precip_jour_lag7  \n",
            "0               NaN  \n",
            "1               NaN  \n",
            "2               NaN  \n",
            "3               NaN  \n",
            "4               NaN  \n",
            "\n",
            "[5 rows x 44 columns]\n"
          ]
        }
      ],
      "source": [
        "'''Ajout de variables de décalage temporel (Lag Features)'''\n",
        "# Nombre de jours de décalage ( 1, 3, 7 jours)\n",
        "lags = [1, 3, 7]\n",
        "\n",
        "for lag in lags:\n",
        "    df[f'temp_jour_lag{lag}'] = df['temp_jour'].shift(lag)\n",
        "    df[f'humidity_jour_lag{lag}'] = df['humidity_jour'].shift(lag)\n",
        "    df[f'wind_speed_jour_lag{lag}'] = df['wind_speed_jour'].shift(lag)\n",
        "    df[f'precip_jour_lag{lag}'] = df['precip_jour'].shift(lag)\n",
        "\n",
        "print(df.head())\n",
        "\n"
      ]
    },
    {
      "cell_type": "code",
      "execution_count": null,
      "id": "3c5085e7-3a5b-4051-bdc4-11b11f598097",
      "metadata": {
        "id": "3c5085e7-3a5b-4051-bdc4-11b11f598097"
      },
      "outputs": [],
      "source": [
        "# Remplacer les valeurs NaN par 0\n",
        "df.fillna(0, inplace=True)"
      ]
    },
    {
      "cell_type": "code",
      "execution_count": null,
      "id": "c29d9112-8a85-4772-8ace-6214a4a7ef80",
      "metadata": {
        "id": "c29d9112-8a85-4772-8ace-6214a4a7ef80"
      },
      "outputs": [],
      "source": [
        "'''Supprimer les heures en dehors des horaires d’ouverture'''\n",
        "df = df[df['hour'].between(7, 23) | (df['hour'] == 0)] #garde les heures entre 7h et 23h ,00h\n"
      ]
    },
    {
      "cell_type": "code",
      "execution_count": null,
      "id": "920f263c-69cd-4d75-9cde-8ef30a1a347f",
      "metadata": {
        "id": "920f263c-69cd-4d75-9cde-8ef30a1a347f",
        "outputId": "437dc916-a8c2-4910-a34b-ccf6b03f4881"
      },
      "outputs": [
        {
          "name": "stdout",
          "output_type": "stream",
          "text": [
            "(782170, 44)\n"
          ]
        }
      ],
      "source": [
        "print(df.shape)"
      ]
    },
    {
      "cell_type": "code",
      "execution_count": null,
      "id": "590c1111-70dd-4fb3-80da-18a7ad9b9623",
      "metadata": {
        "id": "590c1111-70dd-4fb3-80da-18a7ad9b9623",
        "outputId": "26ccf906-133b-410d-ddba-c763644e65ee"
      },
      "outputs": [
        {
          "name": "stdout",
          "output_type": "stream",
          "text": [
            "Index(['city', 'date', 'hour', 'temperature', 'precipitation', 'wind_speed',\n",
            "       'humidity', 'mois', 'Jour', 'Weekend', 'jour_ferie', 'saison',\n",
            "       'vacances_scolaires', 'ramadan', 'new_year', 'Region',\n",
            "       'saison_toristique', 'periode_journee', 'temp_jour', 'humidity_jour',\n",
            "       'wind_speed_jour', 'precip_jour', 'point de rosée/jour',\n",
            "       'Indice de Chaleur', 'refroidissement éolien', 'Indice d’inconfort',\n",
            "       'Indice de Vague de Chaleur', 'Indice de Vague de Froid ',\n",
            "       'Indice de Pluie Intense', 'Indice de Tempête', 'Indice de sécheresse',\n",
            "       'Indice climatique thermique universel (ICTU)', 'temp_jour_lag1',\n",
            "       'humidity_jour_lag1', 'wind_speed_jour_lag1', 'temp_jour_lag3',\n",
            "       'humidity_jour_lag3', 'wind_speed_jour_lag3', 'temp_jour_lag7',\n",
            "       'humidity_jour_lag7', 'wind_speed_jour_lag7', 'precip_jour_lag1',\n",
            "       'precip_jour_lag3', 'precip_jour_lag7'],\n",
            "      dtype='object')\n"
          ]
        }
      ],
      "source": [
        "print(df.columns)"
      ]
    },
    {
      "cell_type": "code",
      "execution_count": null,
      "id": "7d83a780-a8bc-4dc6-9afb-5053f7938fe4",
      "metadata": {
        "id": "7d83a780-a8bc-4dc6-9afb-5053f7938fe4"
      },
      "outputs": [],
      "source": [
        "# reorganisation des colonnes\n",
        "ordered_columns = [\n",
        "    # 1. Informations de base\n",
        "    'city', 'Region', 'date', 'hour',\n",
        "\n",
        "    # 2. Données météorologiques horaires\n",
        "    'temperature', 'precipitation', 'wind_speed', 'humidity',\n",
        "\n",
        "    # 3. Données météorologiques journalières\n",
        "    'temp_jour', 'humidity_jour', 'wind_speed_jour', 'precip_jour', 'point de rosée/jour',\n",
        "    # 4. Variables de décalage temporel (lags)\n",
        "    'temp_jour_lag1', 'humidity_jour_lag1', 'wind_speed_jour_lag1','precip_jour_lag1' ,\n",
        "    'temp_jour_lag3', 'humidity_jour_lag3', 'wind_speed_jour_lag3', 'precip_jour_lag3',\n",
        "    'temp_jour_lag7', 'humidity_jour_lag7', 'wind_speed_jour_lag7','precip_jour_lag7',\n",
        "    # 5. Données contextuelles\n",
        "    'mois', 'Jour', 'Weekend', 'jour_ferie', 'saison', 'vacances_scolaires',\n",
        "    'ramadan', 'new_year', 'saison_toristique', 'periode_journee',\n",
        "\n",
        "    # 6. Indices météorologiques\n",
        "    'Indice de Chaleur', 'refroidissement éolien', 'Indice d’inconfort', 'Indice de Vague de Chaleur',\n",
        "    'Indice de Vague de Froid ', 'Indice de Pluie Intense', 'Indice de Tempête', 'Indice de sécheresse',\n",
        "    'Indice climatique thermique universel (ICTU)',\n",
        "\n",
        "]\n",
        "\n",
        "# Réorganiser le dataframe\n",
        "df = df[ordered_columns]\n"
      ]
    },
    {
      "cell_type": "code",
      "execution_count": null,
      "id": "5f020d97-db68-4858-9401-47bff2514ed9",
      "metadata": {
        "id": "5f020d97-db68-4858-9401-47bff2514ed9"
      },
      "outputs": [],
      "source": [
        "\n",
        "df.to_csv('features.csv', index=False)"
      ]
    },
    {
      "cell_type": "code",
      "execution_count": null,
      "id": "00bfb902-ba7f-49de-b5ac-74cbd059fe49",
      "metadata": {
        "id": "00bfb902-ba7f-49de-b5ac-74cbd059fe49"
      },
      "outputs": [],
      "source": [
        "''' convertir toutes les colonnes de type float en int'''\n",
        "df = df.round().astype({col: 'int' for col in df.select_dtypes('float').columns})\n"
      ]
    },
    {
      "cell_type": "code",
      "execution_count": null,
      "id": "829661e3-fc6f-4b3e-9a60-cd8d00a0d2f2",
      "metadata": {
        "id": "829661e3-fc6f-4b3e-9a60-cd8d00a0d2f2"
      },
      "outputs": [],
      "source": [
        "\n",
        "df.to_csv('features.csv', index=False)"
      ]
    },
    {
      "cell_type": "code",
      "execution_count": null,
      "id": "8873e595-49ec-484c-a8af-d657824dd3d0",
      "metadata": {
        "id": "8873e595-49ec-484c-a8af-d657824dd3d0"
      },
      "outputs": [],
      "source": [
        "import pandas as pd\n",
        "df=pd.read_csv('features.csv')"
      ]
    },
    {
      "cell_type": "markdown",
      "source": [
        "# 5️⃣ **Catégorisation des indices de confort thermique**"
      ],
      "metadata": {
        "id": "MV1ctIqcQOPD"
      },
      "id": "MV1ctIqcQOPD"
    },
    {
      "cell_type": "code",
      "execution_count": null,
      "id": "d0f402c0-dc55-4775-9812-a3795dedc712",
      "metadata": {
        "id": "d0f402c0-dc55-4775-9812-a3795dedc712"
      },
      "outputs": [],
      "source": [
        "import re\n",
        "\n",
        "\n",
        "df['Indice climatique thermique universel (ICTU)'] = df['Indice climatique thermique universel (ICTU)'].apply(\n",
        "    lambda x: re.search(r\"stress_category='([^']*)'\", str(x)).group(1) if x is not None and \"stress_category=\" in str(x) else None\n",
        ")\n"
      ]
    },
    {
      "cell_type": "code",
      "execution_count": null,
      "id": "36361cef-2f36-4784-be94-64a8cdbecc51",
      "metadata": {
        "id": "36361cef-2f36-4784-be94-64a8cdbecc51",
        "outputId": "ac6aed60-4c03-4600-f429-67ef779005c1"
      },
      "outputs": [
        {
          "name": "stdout",
          "output_type": "stream",
          "text": [
            "['slight cold stress' 'moderate cold stress' 'unknown'\n",
            " 'strong cold stress' 'no thermal stress' 'moderate heat stress'\n",
            " 'strong heat stress']\n"
          ]
        }
      ],
      "source": [
        "print(df['Indice climatique thermique universel (ICTU)'].unique())"
      ]
    },
    {
      "cell_type": "code",
      "execution_count": null,
      "id": "ee5f2fbe-c55c-4f64-837a-70e3bc9f6e60",
      "metadata": {
        "id": "ee5f2fbe-c55c-4f64-837a-70e3bc9f6e60"
      },
      "outputs": [],
      "source": [
        "import pandas as pd\n",
        "df=pd.read_csv('features.csv')\n",
        "# Convertir les colonnes de string en float ou int\n",
        "df['Indice de Chaleur'] = pd.to_numeric(df['Indice de Chaleur'], errors='coerce')\n",
        "df['refroidissement éolien'] = pd.to_numeric(df['refroidissement éolien'], errors='coerce')\n",
        "df['Indice d’inconfort'] = pd.to_numeric(df['Indice d’inconfort'], errors='coerce')\n",
        "def categoriser_indice_chaleur(valeur):\n",
        "    if valeur <= 10:\n",
        "        return \"Frais\"\n",
        "    elif valeur <= 15:\n",
        "        return \"Confortable frais\"\n",
        "    elif valeur <= 20:\n",
        "        return \"Confortable\"\n",
        "    elif valeur <= 25:\n",
        "        return \"Légèrement chaud\"\n",
        "    elif valeur <= 29:\n",
        "        return \"Chaud\"\n",
        "    elif valeur <= 34:\n",
        "        return \"Très chaud\"\n",
        "    else:\n",
        "        return \"Extrêmement chaud\"\n",
        "\n",
        "df['Indice de Chaleur'] = df['Indice de Chaleur'].apply(categoriser_indice_chaleur)\n",
        "def categoriser_refroidissement_eolien(valeur):\n",
        "    if valeur <= 8:\n",
        "        return \"Froid\"\n",
        "    elif valeur <= 13:\n",
        "        return \"Frais\"\n",
        "    elif valeur <= 18:\n",
        "        return \"Modéré\"\n",
        "    elif valeur <= 23:\n",
        "        return \"Confortable\"\n",
        "    elif valeur <= 28:\n",
        "        return \"Agréablement chaud\"\n",
        "    elif valeur <= 33:\n",
        "        return \"Chaud\"\n",
        "    else:\n",
        "        return \"Très chaud\"\n",
        "\n",
        "df['refroidissement éolien'] = df['refroidissement éolien'].apply(categoriser_refroidissement_eolien)\n",
        "def categoriser_indice_inconfort(valeur):\n",
        "    if valeur <= 12:\n",
        "        return \"Frais à froid\"\n",
        "    elif valeur <= 18:\n",
        "        return \"Confortable frais\"\n",
        "    elif valeur <= 23:\n",
        "        return \"Confortable optimal\"\n",
        "    elif valeur <= 27:\n",
        "        return \"Légèrement inconfortable\"\n",
        "    elif valeur <= 31:\n",
        "        return \"Inconfortable\"\n",
        "    elif valeur <= 36:\n",
        "        return \"Très inconfortable\"\n",
        "    else:\n",
        "        return \"Extrêmement inconfortable\"\n",
        "\n",
        "df['Indice d’inconfort'] = df['Indice d’inconfort'].apply(categoriser_indice_inconfort)"
      ]
    },
    {
      "cell_type": "code",
      "execution_count": null,
      "id": "084fd7d3-74b2-4aea-8c6a-6eb1eb7647ec",
      "metadata": {
        "id": "084fd7d3-74b2-4aea-8c6a-6eb1eb7647ec",
        "outputId": "684f3ab9-4aa0-486d-ca98-51b2374a11cd"
      },
      "outputs": [
        {
          "name": "stdout",
          "output_type": "stream",
          "text": [
            "['Confortable frais' 'Confortable' 'Frais' 'Légèrement chaud' 'Chaud'\n",
            " 'Très chaud' 'Extrêmement chaud']\n",
            "['Modéré' 'Frais' 'Confortable' 'Agréablement chaud' 'Chaud' 'Froid'\n",
            " 'Très chaud']\n",
            "['Confortable frais' 'Frais à froid' 'Confortable optimal'\n",
            " 'Légèrement inconfortable' 'Inconfortable' 'Très inconfortable'\n",
            " 'Extrêmement inconfortable']\n"
          ]
        }
      ],
      "source": [
        "print(df['Indice de Chaleur'].unique())\n",
        "print(df['refroidissement éolien'].unique())\n",
        "print(df['Indice d’inconfort'].unique())"
      ]
    },
    {
      "cell_type": "code",
      "execution_count": null,
      "id": "a4306641-8fed-48c9-9a05-7c654c432bd7",
      "metadata": {
        "id": "a4306641-8fed-48c9-9a05-7c654c432bd7"
      },
      "outputs": [],
      "source": [
        "df=df.to_csv('features.csv')"
      ]
    },
    {
      "cell_type": "code",
      "execution_count": null,
      "id": "dfc2faf6-d352-4256-890b-4dced1d04bee",
      "metadata": {
        "id": "dfc2faf6-d352-4256-890b-4dced1d04bee"
      },
      "outputs": [],
      "source": [
        "df=pd.read_csv('features.csv')"
      ]
    },
    {
      "cell_type": "code",
      "execution_count": null,
      "id": "98d0662c-80cc-408b-9ba1-8671780ba324",
      "metadata": {
        "id": "98d0662c-80cc-408b-9ba1-8671780ba324",
        "outputId": "b0c0c6c1-8821-425c-b4a1-06044c73e273"
      },
      "outputs": [
        {
          "name": "stdout",
          "output_type": "stream",
          "text": [
            "(782170, 45)\n"
          ]
        }
      ],
      "source": [
        "import pandas as pd\n",
        "print(df.shape)"
      ]
    },
    {
      "cell_type": "markdown",
      "source": [
        "#  **Conclusion finale**\n",
        "---\n",
        "***Ce notebook a permis de transformer un simple dataset météorologique en une base de données riche et exploitable grâce à des features avancées. Ces nouvelles informations ouvrent la porte à des analyses plus précises et pertinentes, aide ainsi les commerçants à optimiser leur gestion des stocks et leurs stratégies marketing en\n",
        "fonction de la météo.\n",
        ".***"
      ],
      "metadata": {
        "id": "pHi2F9eAX57u"
      },
      "id": "pHi2F9eAX57u"
    }
  ],
  "metadata": {
    "kernelspec": {
      "display_name": "Python 3 (ipykernel)",
      "language": "python",
      "name": "python3"
    },
    "language_info": {
      "codemirror_mode": {
        "name": "ipython",
        "version": 3
      },
      "file_extension": ".py",
      "mimetype": "text/x-python",
      "name": "python",
      "nbconvert_exporter": "python",
      "pygments_lexer": "ipython3",
      "version": "3.12.0"
    },
    "colab": {
      "provenance": []
    }
  },
  "nbformat": 4,
  "nbformat_minor": 5
}